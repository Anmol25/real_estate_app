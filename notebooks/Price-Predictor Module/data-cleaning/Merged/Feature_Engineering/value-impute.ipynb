{
 "cells": [
  {
   "cell_type": "code",
   "execution_count": 1,
   "id": "92aefda1-4051-4fc4-9b3b-53f4e22b9615",
   "metadata": {},
   "outputs": [],
   "source": [
    "import numpy as np\n",
    "import pandas as pd\n",
    "import matplotlib.pyplot as plt\n",
    "import seaborn as sns"
   ]
  },
  {
   "cell_type": "code",
   "execution_count": 2,
   "id": "e6674696-017c-4b21-b446-ae4c60cd2011",
   "metadata": {},
   "outputs": [],
   "source": [
    "import warnings\n",
    "warnings.filterwarnings('ignore', category=pd.errors.SettingWithCopyWarning)"
   ]
  },
  {
   "cell_type": "code",
   "execution_count": 3,
   "id": "50ab754d-9fb3-4813-9e47-37de67320ece",
   "metadata": {},
   "outputs": [],
   "source": [
    "pd.options.display.max_columns = None"
   ]
  },
  {
   "cell_type": "code",
   "execution_count": 4,
   "id": "8be58c57-bfb2-43a7-9e55-ff583329bb1b",
   "metadata": {},
   "outputs": [
    {
     "data": {
      "text/html": [
       "<div>\n",
       "<style scoped>\n",
       "    .dataframe tbody tr th:only-of-type {\n",
       "        vertical-align: middle;\n",
       "    }\n",
       "\n",
       "    .dataframe tbody tr th {\n",
       "        vertical-align: top;\n",
       "    }\n",
       "\n",
       "    .dataframe thead th {\n",
       "        text-align: right;\n",
       "    }\n",
       "</style>\n",
       "<table border=\"1\" class=\"dataframe\">\n",
       "  <thead>\n",
       "    <tr style=\"text-align: right;\">\n",
       "      <th></th>\n",
       "      <th>property_id</th>\n",
       "      <th>property_name</th>\n",
       "      <th>property_type</th>\n",
       "      <th>link</th>\n",
       "      <th>Society</th>\n",
       "      <th>Sector</th>\n",
       "      <th>City</th>\n",
       "      <th>address1</th>\n",
       "      <th>address2</th>\n",
       "      <th>PricePerUnit</th>\n",
       "      <th>area</th>\n",
       "      <th>Super Built Up</th>\n",
       "      <th>Built Up area</th>\n",
       "      <th>Carpet area</th>\n",
       "      <th>Plot Area</th>\n",
       "      <th>area_unit</th>\n",
       "      <th>bedRoom</th>\n",
       "      <th>bathroom</th>\n",
       "      <th>balcony</th>\n",
       "      <th>additionalRoom</th>\n",
       "      <th>Pooja Room</th>\n",
       "      <th>Servant Room</th>\n",
       "      <th>Store Room</th>\n",
       "      <th>Study Room</th>\n",
       "      <th>Other Room</th>\n",
       "      <th>facing</th>\n",
       "      <th>FloorNo</th>\n",
       "      <th>TotalFloors</th>\n",
       "      <th>Overlooking</th>\n",
       "      <th>Main Road</th>\n",
       "      <th>Park/Garden</th>\n",
       "      <th>Pool</th>\n",
       "      <th>Club</th>\n",
       "      <th>Overlook Others</th>\n",
       "      <th>agePossession</th>\n",
       "      <th>Flooring</th>\n",
       "      <th>GatedCommunity</th>\n",
       "      <th>Furnishing</th>\n",
       "      <th>CoveredParking</th>\n",
       "      <th>OpenParking</th>\n",
       "      <th>RoadFacing</th>\n",
       "      <th>WaterSource</th>\n",
       "      <th>24*7 Water</th>\n",
       "      <th>MuniCorp Water</th>\n",
       "      <th>Borewell/Tank</th>\n",
       "      <th>PowerBackup</th>\n",
       "      <th>WheelChairFriendly</th>\n",
       "      <th>PetFriendly</th>\n",
       "      <th>description</th>\n",
       "      <th>furnishDetails</th>\n",
       "      <th>Luxury Score</th>\n",
       "      <th>Facilities Categories</th>\n",
       "      <th>features</th>\n",
       "      <th>price</th>\n",
       "    </tr>\n",
       "  </thead>\n",
       "  <tbody>\n",
       "    <tr>\n",
       "      <th>0</th>\n",
       "      <td>R76627967</td>\n",
       "      <td>7Bedrooms 7Baths</td>\n",
       "      <td>House/Villa</td>\n",
       "      <td>https://www.99acres.com/7-bhk-bedroom-independ...</td>\n",
       "      <td>NaN</td>\n",
       "      <td>Sector 15 Chandigarh</td>\n",
       "      <td>Chandigarh</td>\n",
       "      <td>Sector 15 Chandigarh, Chandigarh, India</td>\n",
       "      <td>Sector 15 Chandigarh, Chandigarh, India</td>\n",
       "      <td>15555.555556</td>\n",
       "      <td>Plot area 2000(1672.25 sq.m.)  sq.yards</td>\n",
       "      <td>NaN</td>\n",
       "      <td>18000.0</td>\n",
       "      <td>NaN</td>\n",
       "      <td>18000.0</td>\n",
       "      <td>sq.yards</td>\n",
       "      <td>7</td>\n",
       "      <td>7</td>\n",
       "      <td>4</td>\n",
       "      <td>Servant Room</td>\n",
       "      <td>0</td>\n",
       "      <td>1</td>\n",
       "      <td>0</td>\n",
       "      <td>0</td>\n",
       "      <td>0</td>\n",
       "      <td>North-West</td>\n",
       "      <td>0</td>\n",
       "      <td>2</td>\n",
       "      <td>Others</td>\n",
       "      <td>0</td>\n",
       "      <td>0</td>\n",
       "      <td>0</td>\n",
       "      <td>0</td>\n",
       "      <td>1</td>\n",
       "      <td>Old</td>\n",
       "      <td>Marble</td>\n",
       "      <td>No</td>\n",
       "      <td>Semifurnished</td>\n",
       "      <td>3</td>\n",
       "      <td>3</td>\n",
       "      <td>40.0</td>\n",
       "      <td>24*7 Water,Municipal corporation</td>\n",
       "      <td>1</td>\n",
       "      <td>1</td>\n",
       "      <td>0</td>\n",
       "      <td>NaN</td>\n",
       "      <td>Yes</td>\n",
       "      <td>Yes</td>\n",
       "      <td>This 7 bhk house for sale in sector 15 chandig...</td>\n",
       "      <td>['4 Fan', '4 Light', 'No AC', 'No Bed', 'No Ch...</td>\n",
       "      <td>19</td>\n",
       "      <td>Standard</td>\n",
       "      <td>['Feng Shui / Vaastu Compliant', 'Water purifi...</td>\n",
       "      <td>28.0</td>\n",
       "    </tr>\n",
       "  </tbody>\n",
       "</table>\n",
       "</div>"
      ],
      "text/plain": [
       "  property_id     property_name property_type  \\\n",
       "0   R76627967  7Bedrooms 7Baths   House/Villa   \n",
       "\n",
       "                                                link Society  \\\n",
       "0  https://www.99acres.com/7-bhk-bedroom-independ...     NaN   \n",
       "\n",
       "                 Sector        City                                 address1  \\\n",
       "0  Sector 15 Chandigarh  Chandigarh  Sector 15 Chandigarh, Chandigarh, India   \n",
       "\n",
       "                                  address2  PricePerUnit  \\\n",
       "0  Sector 15 Chandigarh, Chandigarh, India  15555.555556   \n",
       "\n",
       "                                      area  Super Built Up  Built Up area  \\\n",
       "0  Plot area 2000(1672.25 sq.m.)  sq.yards             NaN        18000.0   \n",
       "\n",
       "   Carpet area  Plot Area area_unit  bedRoom  bathroom  balcony  \\\n",
       "0          NaN    18000.0  sq.yards        7         7        4   \n",
       "\n",
       "  additionalRoom  Pooja Room  Servant Room  Store Room  Study Room  \\\n",
       "0   Servant Room           0             1           0           0   \n",
       "\n",
       "   Other Room      facing  FloorNo  TotalFloors Overlooking  Main Road  \\\n",
       "0           0  North-West        0            2      Others          0   \n",
       "\n",
       "   Park/Garden  Pool  Club  Overlook Others agePossession Flooring  \\\n",
       "0            0     0     0                1           Old   Marble   \n",
       "\n",
       "  GatedCommunity     Furnishing  CoveredParking  OpenParking  RoadFacing  \\\n",
       "0             No  Semifurnished               3            3        40.0   \n",
       "\n",
       "                        WaterSource  24*7 Water  MuniCorp Water  \\\n",
       "0  24*7 Water,Municipal corporation           1               1   \n",
       "\n",
       "   Borewell/Tank PowerBackup WheelChairFriendly PetFriendly  \\\n",
       "0              0         NaN                Yes         Yes   \n",
       "\n",
       "                                         description  \\\n",
       "0  This 7 bhk house for sale in sector 15 chandig...   \n",
       "\n",
       "                                      furnishDetails  Luxury Score  \\\n",
       "0  ['4 Fan', '4 Light', 'No AC', 'No Bed', 'No Ch...            19   \n",
       "\n",
       "  Facilities Categories                                           features  \\\n",
       "0              Standard  ['Feng Shui / Vaastu Compliant', 'Water purifi...   \n",
       "\n",
       "   price  \n",
       "0   28.0  "
      ]
     },
     "execution_count": 4,
     "metadata": {},
     "output_type": "execute_result"
    }
   ],
   "source": [
    "df = pd.read_csv(\"data/feat_eng/feat-eng-value-impute-v2.csv\")\n",
    "df.head(1)"
   ]
  },
  {
   "cell_type": "code",
   "execution_count": 5,
   "id": "b4cb169a-a19a-41d0-97b6-ffcbfcb82d11",
   "metadata": {},
   "outputs": [],
   "source": [
    "# property_id\tproperty_name link address1\taddress2 area\tSuper Built Up Carpet area\tPlot Area\tarea_unit additionalRoom Overlooking WaterSource description\tfurnishDetails\tLuxury Score features"
   ]
  },
  {
   "cell_type": "code",
   "execution_count": 6,
   "id": "786010c6-8ebd-4e04-aeb8-69180ff43a64",
   "metadata": {},
   "outputs": [],
   "source": [
    "#df.drop(columns = ['property_id', 'property_name', 'link', 'address1', 'address2','area','PricePerUnit','Super Built Up','Carpet area','Plot Area','area_unit','additionalRoom','Overlooking','WaterSource','description','furnishDetails','Luxury Score','features'],inplace = True)"
   ]
  },
  {
   "cell_type": "code",
   "execution_count": 7,
   "id": "cf244ba6-b4f2-4b89-bcf3-72d2b4925fa5",
   "metadata": {},
   "outputs": [],
   "source": [
    "#df.head()"
   ]
  },
  {
   "cell_type": "code",
   "execution_count": 8,
   "id": "c374d34b-ad5b-4509-bd44-1ab564199d31",
   "metadata": {
    "scrolled": true
   },
   "outputs": [
    {
     "data": {
      "text/plain": [
       "property_id                 0\n",
       "property_name               0\n",
       "property_type               0\n",
       "link                        0\n",
       "Society                  4583\n",
       "Sector                      0\n",
       "City                        0\n",
       "address1                    0\n",
       "address2                    4\n",
       "PricePerUnit                0\n",
       "area                        0\n",
       "Super Built Up           5181\n",
       "Built Up area               0\n",
       "Carpet area              4435\n",
       "Plot Area                5316\n",
       "area_unit                   0\n",
       "bedRoom                     0\n",
       "bathroom                    0\n",
       "balcony                     0\n",
       "additionalRoom           3075\n",
       "Pooja Room                  0\n",
       "Servant Room                0\n",
       "Store Room                  0\n",
       "Study Room                  0\n",
       "Other Room                  0\n",
       "facing                   2146\n",
       "FloorNo                     0\n",
       "TotalFloors                 0\n",
       "Overlooking              2147\n",
       "Main Road                   0\n",
       "Park/Garden                 0\n",
       "Pool                        0\n",
       "Club                        0\n",
       "Overlook Others             0\n",
       "agePossession               3\n",
       "Flooring                 2143\n",
       "GatedCommunity              0\n",
       "Furnishing                  0\n",
       "CoveredParking              0\n",
       "OpenParking                 0\n",
       "RoadFacing               3716\n",
       "WaterSource              1649\n",
       "24*7 Water                  0\n",
       "MuniCorp Water              0\n",
       "Borewell/Tank               0\n",
       "PowerBackup              3846\n",
       "WheelChairFriendly          0\n",
       "PetFriendly                 0\n",
       "description                 0\n",
       "furnishDetails           2049\n",
       "Luxury Score                0\n",
       "Facilities Categories       0\n",
       "features                    0\n",
       "price                       0\n",
       "dtype: int64"
      ]
     },
     "execution_count": 8,
     "metadata": {},
     "output_type": "execute_result"
    }
   ],
   "source": [
    "df.isna().sum()"
   ]
  },
  {
   "cell_type": "code",
   "execution_count": 9,
   "id": "cbc04de4-a80a-45ee-8d42-3cc39306fe9e",
   "metadata": {},
   "outputs": [],
   "source": [
    "pd.options.display.max_rows = None"
   ]
  },
  {
   "cell_type": "markdown",
   "id": "6acf4d66-e67f-44ed-b7f1-18fb9aed9368",
   "metadata": {},
   "source": [
    "###  Power Backup"
   ]
  },
  {
   "cell_type": "code",
   "execution_count": 10,
   "id": "d605259f-03fd-4a0f-9070-cb862a1c08c0",
   "metadata": {},
   "outputs": [
    {
     "data": {
      "text/plain": [
       "PowerBackup\n",
       "Full       3788\n",
       "Partial     795\n",
       "Name: count, dtype: int64"
      ]
     },
     "execution_count": 10,
     "metadata": {},
     "output_type": "execute_result"
    }
   ],
   "source": [
    "df['PowerBackup'].value_counts()"
   ]
  },
  {
   "cell_type": "code",
   "execution_count": 11,
   "id": "8fea79ef-f16c-409d-bfca-c634cb1bee78",
   "metadata": {},
   "outputs": [
    {
     "data": {
      "text/plain": [
       "8429"
      ]
     },
     "execution_count": 11,
     "metadata": {},
     "output_type": "execute_result"
    }
   ],
   "source": [
    "len(df)"
   ]
  },
  {
   "cell_type": "code",
   "execution_count": 12,
   "id": "f3a99da3-d6a5-430a-87d4-5bca330b5247",
   "metadata": {},
   "outputs": [],
   "source": [
    "df['PowerBackup'].fillna('No',inplace =True)"
   ]
  },
  {
   "cell_type": "code",
   "execution_count": 13,
   "id": "0ccf586c-130e-44af-8e66-41fcc3c7cea1",
   "metadata": {},
   "outputs": [
    {
     "data": {
      "text/plain": [
       "PowerBackup\n",
       "No         3846\n",
       "Full       3788\n",
       "Partial     795\n",
       "Name: count, dtype: int64"
      ]
     },
     "execution_count": 13,
     "metadata": {},
     "output_type": "execute_result"
    }
   ],
   "source": [
    "df['PowerBackup'].value_counts()"
   ]
  },
  {
   "cell_type": "markdown",
   "id": "90c67fbf-0766-4b19-bc4e-5aca883d0170",
   "metadata": {},
   "source": [
    "### agePossession"
   ]
  },
  {
   "cell_type": "code",
   "execution_count": 14,
   "id": "198076cd-6bb0-45c5-a6f2-19c5d00f3042",
   "metadata": {},
   "outputs": [
    {
     "data": {
      "text/html": [
       "<div>\n",
       "<style scoped>\n",
       "    .dataframe tbody tr th:only-of-type {\n",
       "        vertical-align: middle;\n",
       "    }\n",
       "\n",
       "    .dataframe tbody tr th {\n",
       "        vertical-align: top;\n",
       "    }\n",
       "\n",
       "    .dataframe thead th {\n",
       "        text-align: right;\n",
       "    }\n",
       "</style>\n",
       "<table border=\"1\" class=\"dataframe\">\n",
       "  <thead>\n",
       "    <tr style=\"text-align: right;\">\n",
       "      <th></th>\n",
       "      <th>property_id</th>\n",
       "      <th>property_name</th>\n",
       "      <th>property_type</th>\n",
       "      <th>link</th>\n",
       "      <th>Society</th>\n",
       "      <th>Sector</th>\n",
       "      <th>City</th>\n",
       "      <th>address1</th>\n",
       "      <th>address2</th>\n",
       "      <th>PricePerUnit</th>\n",
       "      <th>area</th>\n",
       "      <th>Super Built Up</th>\n",
       "      <th>Built Up area</th>\n",
       "      <th>Carpet area</th>\n",
       "      <th>Plot Area</th>\n",
       "      <th>area_unit</th>\n",
       "      <th>bedRoom</th>\n",
       "      <th>bathroom</th>\n",
       "      <th>balcony</th>\n",
       "      <th>additionalRoom</th>\n",
       "      <th>Pooja Room</th>\n",
       "      <th>Servant Room</th>\n",
       "      <th>Store Room</th>\n",
       "      <th>Study Room</th>\n",
       "      <th>Other Room</th>\n",
       "      <th>facing</th>\n",
       "      <th>FloorNo</th>\n",
       "      <th>TotalFloors</th>\n",
       "      <th>Overlooking</th>\n",
       "      <th>Main Road</th>\n",
       "      <th>Park/Garden</th>\n",
       "      <th>Pool</th>\n",
       "      <th>Club</th>\n",
       "      <th>Overlook Others</th>\n",
       "      <th>agePossession</th>\n",
       "      <th>Flooring</th>\n",
       "      <th>GatedCommunity</th>\n",
       "      <th>Furnishing</th>\n",
       "      <th>CoveredParking</th>\n",
       "      <th>OpenParking</th>\n",
       "      <th>RoadFacing</th>\n",
       "      <th>WaterSource</th>\n",
       "      <th>24*7 Water</th>\n",
       "      <th>MuniCorp Water</th>\n",
       "      <th>Borewell/Tank</th>\n",
       "      <th>PowerBackup</th>\n",
       "      <th>WheelChairFriendly</th>\n",
       "      <th>PetFriendly</th>\n",
       "      <th>description</th>\n",
       "      <th>furnishDetails</th>\n",
       "      <th>Luxury Score</th>\n",
       "      <th>Facilities Categories</th>\n",
       "      <th>features</th>\n",
       "      <th>price</th>\n",
       "    </tr>\n",
       "  </thead>\n",
       "  <tbody>\n",
       "    <tr>\n",
       "      <th>7757</th>\n",
       "      <td>W75197063</td>\n",
       "      <td>3BHK 3Baths</td>\n",
       "      <td>Flat/Apartment</td>\n",
       "      <td>https://www.99acres.com/3-bhk-bedroom-apartmen...</td>\n",
       "      <td>NaN</td>\n",
       "      <td>Sector 117 Mohali</td>\n",
       "      <td>Mohali</td>\n",
       "      <td>Prestige Tower, Sector 117 Mohali , Mohali, Pu...</td>\n",
       "      <td>Sector 117 Mohali , Mohali, Punjab</td>\n",
       "      <td>4360.0</td>\n",
       "      <td>Super Built up area 1720(159.79 sq.m.)  sq.ft.</td>\n",
       "      <td>1720.0</td>\n",
       "      <td>1455.0</td>\n",
       "      <td>NaN</td>\n",
       "      <td>NaN</td>\n",
       "      <td>sq.ft.</td>\n",
       "      <td>3</td>\n",
       "      <td>3</td>\n",
       "      <td>2</td>\n",
       "      <td>NaN</td>\n",
       "      <td>0</td>\n",
       "      <td>0</td>\n",
       "      <td>0</td>\n",
       "      <td>0</td>\n",
       "      <td>0</td>\n",
       "      <td>North-East</td>\n",
       "      <td>13</td>\n",
       "      <td>17</td>\n",
       "      <td>Main Road</td>\n",
       "      <td>1</td>\n",
       "      <td>0</td>\n",
       "      <td>0</td>\n",
       "      <td>0</td>\n",
       "      <td>0</td>\n",
       "      <td>NaN</td>\n",
       "      <td>Marble</td>\n",
       "      <td>No</td>\n",
       "      <td>Unfurnished</td>\n",
       "      <td>1</td>\n",
       "      <td>1</td>\n",
       "      <td>60.0</td>\n",
       "      <td>NaN</td>\n",
       "      <td>0</td>\n",
       "      <td>0</td>\n",
       "      <td>0</td>\n",
       "      <td>Partial</td>\n",
       "      <td>No</td>\n",
       "      <td>No</td>\n",
       "      <td>3bhk flat available for sale prestige towers s...</td>\n",
       "      <td>NaN</td>\n",
       "      <td>26</td>\n",
       "      <td>Standard</td>\n",
       "      <td>['Maintenance Staff', 'Swimming Pool', 'Park',...</td>\n",
       "      <td>0.75</td>\n",
       "    </tr>\n",
       "    <tr>\n",
       "      <th>8230</th>\n",
       "      <td>A75791355</td>\n",
       "      <td>2BHK 2Baths</td>\n",
       "      <td>Flat/Apartment</td>\n",
       "      <td>https://www.99acres.com/2-bhk-bedroom-apartmen...</td>\n",
       "      <td>SBP City of Dreams</td>\n",
       "      <td>Sector 127 Mohali</td>\n",
       "      <td>Mohali</td>\n",
       "      <td>SBP City of Dreams, Sector 127 Mohali, Mohali,...</td>\n",
       "      <td>I - 6177, Sector 127 Mohali, Mohali, Punjab</td>\n",
       "      <td>4415.0</td>\n",
       "      <td>Super Built up area 1359(126.26 sq.m.)  sq.ft.</td>\n",
       "      <td>1359.0</td>\n",
       "      <td>1150.0</td>\n",
       "      <td>NaN</td>\n",
       "      <td>NaN</td>\n",
       "      <td>sq.ft.</td>\n",
       "      <td>2</td>\n",
       "      <td>2</td>\n",
       "      <td>2</td>\n",
       "      <td>NaN</td>\n",
       "      <td>0</td>\n",
       "      <td>0</td>\n",
       "      <td>0</td>\n",
       "      <td>0</td>\n",
       "      <td>0</td>\n",
       "      <td>East</td>\n",
       "      <td>6</td>\n",
       "      <td>12</td>\n",
       "      <td>Club,Park/Garden,Pool</td>\n",
       "      <td>0</td>\n",
       "      <td>1</td>\n",
       "      <td>1</td>\n",
       "      <td>1</td>\n",
       "      <td>0</td>\n",
       "      <td>NaN</td>\n",
       "      <td>NaN</td>\n",
       "      <td>Yes</td>\n",
       "      <td>Unfurnished</td>\n",
       "      <td>0</td>\n",
       "      <td>2</td>\n",
       "      <td>NaN</td>\n",
       "      <td>24*7 Water</td>\n",
       "      <td>1</td>\n",
       "      <td>0</td>\n",
       "      <td>0</td>\n",
       "      <td>Full</td>\n",
       "      <td>No</td>\n",
       "      <td>No</td>\n",
       "      <td>The usp is \\n1. Mivan construction. No leakage...</td>\n",
       "      <td>NaN</td>\n",
       "      <td>40</td>\n",
       "      <td>Premium</td>\n",
       "      <td>['Power Back-up', 'Lift(s)', 'No open drainage...</td>\n",
       "      <td>0.55</td>\n",
       "    </tr>\n",
       "    <tr>\n",
       "      <th>8251</th>\n",
       "      <td>R75720099</td>\n",
       "      <td>1BHK 1Bath</td>\n",
       "      <td>Flat/Apartment</td>\n",
       "      <td>https://www.99acres.com/1-bhk-bedroom-apartmen...</td>\n",
       "      <td>SBP City of Dreams</td>\n",
       "      <td>Sector 127 Mohali</td>\n",
       "      <td>Mohali</td>\n",
       "      <td>SBP City of Dreams, Sector 127 Mohali, Mohali,...</td>\n",
       "      <td>Sector 127 Mohali, Mohali, Punjab</td>\n",
       "      <td>4714.0</td>\n",
       "      <td>Super Built up area 700(65.03 sq.m.)  sq.ft.</td>\n",
       "      <td>700.0</td>\n",
       "      <td>592.0</td>\n",
       "      <td>NaN</td>\n",
       "      <td>NaN</td>\n",
       "      <td>sq.ft.</td>\n",
       "      <td>1</td>\n",
       "      <td>1</td>\n",
       "      <td>2</td>\n",
       "      <td>NaN</td>\n",
       "      <td>0</td>\n",
       "      <td>0</td>\n",
       "      <td>0</td>\n",
       "      <td>0</td>\n",
       "      <td>0</td>\n",
       "      <td>South-East</td>\n",
       "      <td>5</td>\n",
       "      <td>12</td>\n",
       "      <td>Club,Park/Garden,Pool</td>\n",
       "      <td>0</td>\n",
       "      <td>1</td>\n",
       "      <td>1</td>\n",
       "      <td>1</td>\n",
       "      <td>0</td>\n",
       "      <td>NaN</td>\n",
       "      <td>Marble</td>\n",
       "      <td>Yes</td>\n",
       "      <td>Semifurnished</td>\n",
       "      <td>1</td>\n",
       "      <td>0</td>\n",
       "      <td>50.0</td>\n",
       "      <td>24*7 Water,Borewell/Tank,Municipal corporation</td>\n",
       "      <td>1</td>\n",
       "      <td>1</td>\n",
       "      <td>1</td>\n",
       "      <td>Full</td>\n",
       "      <td>No</td>\n",
       "      <td>Yes</td>\n",
       "      <td>Pay 16lac &amp; get 16000/month assured return til...</td>\n",
       "      <td>['1 Wardrobe', '1 Exhaust Fan', '1 Geyser', '2...</td>\n",
       "      <td>43</td>\n",
       "      <td>Premium</td>\n",
       "      <td>['Lift(s)', 'Water purifier', 'High Ceiling He...</td>\n",
       "      <td>0.33</td>\n",
       "    </tr>\n",
       "  </tbody>\n",
       "</table>\n",
       "</div>"
      ],
      "text/plain": [
       "     property_id property_name   property_type  \\\n",
       "7757   W75197063   3BHK 3Baths  Flat/Apartment   \n",
       "8230   A75791355   2BHK 2Baths  Flat/Apartment   \n",
       "8251   R75720099    1BHK 1Bath  Flat/Apartment   \n",
       "\n",
       "                                                   link             Society  \\\n",
       "7757  https://www.99acres.com/3-bhk-bedroom-apartmen...                 NaN   \n",
       "8230  https://www.99acres.com/2-bhk-bedroom-apartmen...  SBP City of Dreams   \n",
       "8251  https://www.99acres.com/1-bhk-bedroom-apartmen...  SBP City of Dreams   \n",
       "\n",
       "                 Sector    City  \\\n",
       "7757  Sector 117 Mohali  Mohali   \n",
       "8230  Sector 127 Mohali  Mohali   \n",
       "8251  Sector 127 Mohali  Mohali   \n",
       "\n",
       "                                               address1  \\\n",
       "7757  Prestige Tower, Sector 117 Mohali , Mohali, Pu...   \n",
       "8230  SBP City of Dreams, Sector 127 Mohali, Mohali,...   \n",
       "8251  SBP City of Dreams, Sector 127 Mohali, Mohali,...   \n",
       "\n",
       "                                         address2  PricePerUnit  \\\n",
       "7757           Sector 117 Mohali , Mohali, Punjab        4360.0   \n",
       "8230  I - 6177, Sector 127 Mohali, Mohali, Punjab        4415.0   \n",
       "8251            Sector 127 Mohali, Mohali, Punjab        4714.0   \n",
       "\n",
       "                                                area  Super Built Up  \\\n",
       "7757  Super Built up area 1720(159.79 sq.m.)  sq.ft.          1720.0   \n",
       "8230  Super Built up area 1359(126.26 sq.m.)  sq.ft.          1359.0   \n",
       "8251    Super Built up area 700(65.03 sq.m.)  sq.ft.           700.0   \n",
       "\n",
       "      Built Up area  Carpet area  Plot Area area_unit  bedRoom  bathroom  \\\n",
       "7757         1455.0          NaN        NaN    sq.ft.        3         3   \n",
       "8230         1150.0          NaN        NaN    sq.ft.        2         2   \n",
       "8251          592.0          NaN        NaN    sq.ft.        1         1   \n",
       "\n",
       "      balcony additionalRoom  Pooja Room  Servant Room  Store Room  \\\n",
       "7757        2            NaN           0             0           0   \n",
       "8230        2            NaN           0             0           0   \n",
       "8251        2            NaN           0             0           0   \n",
       "\n",
       "      Study Room  Other Room      facing  FloorNo  TotalFloors  \\\n",
       "7757           0           0  North-East       13           17   \n",
       "8230           0           0        East        6           12   \n",
       "8251           0           0  South-East        5           12   \n",
       "\n",
       "                Overlooking  Main Road  Park/Garden  Pool  Club  \\\n",
       "7757              Main Road          1            0     0     0   \n",
       "8230  Club,Park/Garden,Pool          0            1     1     1   \n",
       "8251  Club,Park/Garden,Pool          0            1     1     1   \n",
       "\n",
       "      Overlook Others agePossession Flooring GatedCommunity     Furnishing  \\\n",
       "7757                0           NaN   Marble             No    Unfurnished   \n",
       "8230                0           NaN      NaN            Yes    Unfurnished   \n",
       "8251                0           NaN   Marble            Yes  Semifurnished   \n",
       "\n",
       "      CoveredParking  OpenParking  RoadFacing  \\\n",
       "7757               1            1        60.0   \n",
       "8230               0            2         NaN   \n",
       "8251               1            0        50.0   \n",
       "\n",
       "                                         WaterSource  24*7 Water  \\\n",
       "7757                                             NaN           0   \n",
       "8230                                      24*7 Water           1   \n",
       "8251  24*7 Water,Borewell/Tank,Municipal corporation           1   \n",
       "\n",
       "      MuniCorp Water  Borewell/Tank PowerBackup WheelChairFriendly  \\\n",
       "7757               0              0     Partial                 No   \n",
       "8230               0              0        Full                 No   \n",
       "8251               1              1        Full                 No   \n",
       "\n",
       "     PetFriendly                                        description  \\\n",
       "7757          No  3bhk flat available for sale prestige towers s...   \n",
       "8230          No  The usp is \\n1. Mivan construction. No leakage...   \n",
       "8251         Yes  Pay 16lac & get 16000/month assured return til...   \n",
       "\n",
       "                                         furnishDetails  Luxury Score  \\\n",
       "7757                                                NaN            26   \n",
       "8230                                                NaN            40   \n",
       "8251  ['1 Wardrobe', '1 Exhaust Fan', '1 Geyser', '2...            43   \n",
       "\n",
       "     Facilities Categories                                           features  \\\n",
       "7757              Standard  ['Maintenance Staff', 'Swimming Pool', 'Park',...   \n",
       "8230               Premium  ['Power Back-up', 'Lift(s)', 'No open drainage...   \n",
       "8251               Premium  ['Lift(s)', 'Water purifier', 'High Ceiling He...   \n",
       "\n",
       "      price  \n",
       "7757   0.75  \n",
       "8230   0.55  \n",
       "8251   0.33  "
      ]
     },
     "execution_count": 14,
     "metadata": {},
     "output_type": "execute_result"
    }
   ],
   "source": [
    "df[df['agePossession'].isna()]"
   ]
  },
  {
   "cell_type": "code",
   "execution_count": 15,
   "id": "c74ab78d-6f34-49ae-9847-45e45f6f10a8",
   "metadata": {},
   "outputs": [],
   "source": [
    "# 7757 - UndConst\n",
    "# 8230 - UndConst\n",
    "# 8251 - UndConst"
   ]
  },
  {
   "cell_type": "code",
   "execution_count": 16,
   "id": "848f7e2b-706f-47ee-914f-89d936629368",
   "metadata": {},
   "outputs": [
    {
     "data": {
      "text/plain": [
       "agePossession\n",
       "New         2987\n",
       "Old         1731\n",
       "RelNew      1681\n",
       "ModOld      1039\n",
       "UndConst     988\n",
       "Name: count, dtype: int64"
      ]
     },
     "execution_count": 16,
     "metadata": {},
     "output_type": "execute_result"
    }
   ],
   "source": [
    "df['agePossession'].value_counts()"
   ]
  },
  {
   "cell_type": "code",
   "execution_count": 17,
   "id": "4e9d0ec9-ca52-4db4-a064-c551f0a9b2f8",
   "metadata": {},
   "outputs": [],
   "source": [
    "df['agePossession'].fillna('UndConst',inplace = True)"
   ]
  },
  {
   "cell_type": "code",
   "execution_count": 18,
   "id": "c91d0eb6-f1e6-4ff4-a513-92f647826801",
   "metadata": {},
   "outputs": [
    {
     "data": {
      "text/plain": [
       "Society           4583\n",
       "address2             4\n",
       "Super Built Up    5181\n",
       "Carpet area       4435\n",
       "Plot Area         5316\n",
       "additionalRoom    3075\n",
       "facing            2146\n",
       "Overlooking       2147\n",
       "Flooring          2143\n",
       "RoadFacing        3716\n",
       "WaterSource       1649\n",
       "furnishDetails    2049\n",
       "dtype: int64"
      ]
     },
     "execution_count": 18,
     "metadata": {},
     "output_type": "execute_result"
    }
   ],
   "source": [
    "df.isna().sum()[df.isna().sum() > 0]"
   ]
  },
  {
   "cell_type": "markdown",
   "id": "0786ae6a-dbc6-4ca6-9d1c-e2948e20d03f",
   "metadata": {},
   "source": [
    "### facing"
   ]
  },
  {
   "cell_type": "code",
   "execution_count": 19,
   "id": "542845b2-39f2-455d-a726-7490a492aecd",
   "metadata": {},
   "outputs": [
    {
     "name": "stdout",
     "output_type": "stream",
     "text": [
      "Missing Percentage: 25.46%\n"
     ]
    }
   ],
   "source": [
    "print(f\"Missing Percentage: {round(df['facing'].isnull().sum() / len(df) * 100,2)}%\")"
   ]
  },
  {
   "cell_type": "code",
   "execution_count": 20,
   "id": "5aa1e6ab-c8cb-42fd-abf7-7ed054e1d430",
   "metadata": {},
   "outputs": [
    {
     "data": {
      "text/plain": [
       "facing\n",
       "East          2212\n",
       "North-East    1957\n",
       "North          622\n",
       "North-West     453\n",
       "South-East     392\n",
       "West           351\n",
       "South-West     179\n",
       "South          117\n",
       "Name: count, dtype: int64"
      ]
     },
     "execution_count": 20,
     "metadata": {},
     "output_type": "execute_result"
    }
   ],
   "source": [
    "df['facing'].value_counts()"
   ]
  },
  {
   "cell_type": "code",
   "execution_count": 21,
   "id": "a6c08aa9-a849-4baa-856f-a8349a8a9a2a",
   "metadata": {},
   "outputs": [
    {
     "data": {
      "image/png": "[encoded data removed]",
      "text/plain": [
       "<Figure size 640x480 with 1 Axes>"
      ]
     },
     "metadata": {},
     "output_type": "display_data"
    }
   ],
   "source": [
    "df['facing'].value_counts().plot(kind='pie',autopct='%0.2f%%')\n",
    "plt.show()"
   ]
  },
  {
   "cell_type": "code",
   "execution_count": 22,
   "id": "9dd60073-d88a-4c49-a48d-7eb9c69d7801",
   "metadata": {},
   "outputs": [],
   "source": [
    "# we will fill this column on the basis of mode of facing in each sector"
   ]
  },
  {
   "cell_type": "code",
   "execution_count": 23,
   "id": "232880a6-c6eb-459f-9a8c-2edc0ebb6229",
   "metadata": {
    "scrolled": true
   },
   "outputs": [
    {
     "data": {
      "text/plain": [
       "Sector\n",
       "Zirakpur                 1765\n",
       "Kharar                    489\n",
       "Sector 66 Mohali          285\n",
       "Mullanpur                 280\n",
       "Pinjore                   228\n",
       "Aerocity                  216\n",
       "Sector 88 Mohali          216\n",
       "Sector 127 Mohali         170\n",
       "Sector 115 Mohali         160\n",
       "New Chandigarh            146\n",
       "Sector 91 Mohali          138\n",
       "Sector 125 Mohali         133\n",
       "Sector 82 Mohali          105\n",
       "Sector 20 Panchkula       102\n",
       "Peer Muchalla             100\n",
       "Sector 126 Mohali          96\n",
       "Dera Bassi                 90\n",
       "Sector 21 Chandigarh       86\n",
       "Sector 117 Mohali          83\n",
       "Sector 38 Chandigarh       79\n",
       "Sector 15 Panchkula        77\n",
       "Sector 21 Panchkula        76\n",
       "Sector 49 Chandigarh       74\n",
       "Sector 35 Chandigarh       72\n",
       "Phase 3 Mohali             65\n",
       "Sector 48 Chandigarh       65\n",
       "Sector 44 Chandigarh       64\n",
       "Sector 85 Mohali           63\n",
       "Sector 99 Mohali           63\n",
       "Sector 71 Mohali           62\n",
       "Sector 70 Mohali           61\n",
       "Sector 79 Mohali           61\n",
       "Sector 105 Mohali          60\n",
       "Sector 15 Chandigarh       60\n",
       "Phase 7 Mohali             58\n",
       "Sector 7 Panchkula         58\n",
       "Sector 116 Mohali          57\n",
       "Sector 51 Chandigarh       56\n",
       "Sector 4 Panchkula         53\n",
       "Dhakoli                    53\n",
       "Mansa Devi Complex         51\n",
       "Sector 10 Panchkula        50\n",
       "Sector 80 Mohali           49\n",
       "Sector 8 Chandigarh        48\n",
       "Phase 9 Mohali             48\n",
       "Sector 9 Panchkula         47\n",
       "Sector 18 Chandigarh       47\n",
       "Sector 40 Chandigarh       47\n",
       "Sector 34 Chandigarh       46\n",
       "Sector 33 Chandigarh       45\n",
       "Sector 11 Panchkula        44\n",
       "Sector 89 Mohali           41\n",
       "Sector 17 Panchkula        41\n",
       "Sector 8 panchkula         40\n",
       "Sector 27 Chandigarh       40\n",
       "Sector 43 Chandigarh       39\n",
       "Sector 69 Mohali           38\n",
       "Sector 2 Panchkula         36\n",
       "Sector 37 Chandigarh       36\n",
       "Sector 110 Mohali          35\n",
       "Sector 19 Chandigarh       35\n",
       "Sector 12 A Panchkula      35\n",
       "Sector 22 Chandigarh       34\n",
       "Sector 50 Chandigarh       33\n",
       "Phase 10 Mohali            33\n",
       "Manimajra                  31\n",
       "Sector 25 Panchkula        30\n",
       "Sector 20 Chandigarh       30\n",
       "Sector 45 Chandigarh       30\n",
       "Sector 65 Mohali           30\n",
       "Sector 77 Mohali           29\n",
       "Sector 16 Chandigarh       29\n",
       "Sector 26 Panchkula        29\n",
       "Sector 74 Mohali           29\n",
       "Sector 6 Panchkula         28\n",
       "Sector 16 Panchkula        27\n",
       "Sector 12 Panchkula        26\n",
       "Sector 36 Chandigarh       26\n",
       "Sector 124 Mohali          26\n",
       "Sector 32 Chandigarh       26\n",
       "Sector 46 Chandigarh       26\n",
       "Sector 68 Mohali           26\n",
       "Phase 4 Mohali             26\n",
       "Phase 11 Mohali            25\n",
       "Sector 47 Chandigarh       24\n",
       "Sector 78 Mohali           24\n",
       "Sector 42 Chandigarh       23\n",
       "Sector 11 Chandigarh       22\n",
       "Sector 28 Chandigarh       22\n",
       "Sector 114 Mohali          20\n",
       "Sector 67 Mohali           19\n",
       "Sector 66b Mohali          19\n",
       "Sector 28 Panchkula        18\n",
       "Sector 121 Mohali          17\n",
       "Sector 9 Chandigarh        17\n",
       "Sector 109 Mohali          17\n",
       "Phase 5 Mohali             17\n",
       "Sector 113 Mohali          17\n",
       "Sector 90 Mohali           16\n",
       "Mohali                     16\n",
       "Sector 108 Mohali          13\n",
       "Sector 104 Mohali          13\n",
       "Kharar Landran Road        12\n",
       "Phase 1 Mohali             11\n",
       "Sector 23 Chandigarh       11\n",
       "Sector 83 Mohali           11\n",
       "Sector 39 Chandigarh       11\n",
       "Sector 27 Panchkula        11\n",
       "Sector 10 Chandigarh       11\n",
       "Sector 82A Mohali          10\n",
       "Sector 86 Mohali            9\n",
       "Phase 2 Mohali              9\n",
       "Naya Gaon                   9\n",
       "Sector 97 Mohali            8\n",
       "Sector 7 Chandigarh         8\n",
       "Phase 6 Mohali              8\n",
       "Sector 64 Mohali            7\n",
       "Ranjit Nagar                7\n",
       "Sector 19 Panchkula         7\n",
       "Sector 2 Chandigarh         7\n",
       "Sector 92 Mohali            7\n",
       "Sector 24 Panchkula         6\n",
       "Sector 94 Mohali            6\n",
       "Sector 23 Panchkula         6\n",
       "Sector 14 Panchkula         6\n",
       "Daria                       5\n",
       "Kalka                       5\n",
       "Bhago Majra                 5\n",
       "Kishanpura                  5\n",
       "Sector 61 Mohali            5\n",
       "Sector 120 Mohali           5\n",
       "Sector 60 Mohali            5\n",
       "Shivalik City               5\n",
       "Sector 111 Mohali           4\n",
       "Sector 41 Chandigarh        4\n",
       "Sector 30 Chandigarh        4\n",
       "Sector 31 Panchkula         4\n",
       "Sector 3 Panchkula          4\n",
       "TDI City                    4\n",
       "Shivalik Vihar              4\n",
       "Sector 18 Panchkula         3\n",
       "Sector 59 Mohali            3\n",
       "Sector 106 Mohali           3\n",
       "Airport Road                3\n",
       "Maloya Colony               2\n",
       "Sector 57 Mohali            2\n",
       "Chandi Mandir               2\n",
       "Daddu Majra Colony          2\n",
       "Ram Darbar Colony           2\n",
       "Hallo Majra                 2\n",
       "Sector 76 Mohali            2\n",
       "Sector 4 Chandigarh         2\n",
       "Kurali                      2\n",
       "Sector 29                   1\n",
       "Ramgarh                     1\n",
       "Sector 63 Mohali            1\n",
       "Sector 29 Chandigarh        1\n",
       "Dhanas                      1\n",
       "Sector 5 Chandigarh         1\n",
       "Sector 25 Chandigarh        1\n",
       "Name: count, dtype: int64"
      ]
     },
     "execution_count": 23,
     "metadata": {},
     "output_type": "execute_result"
    }
   ],
   "source": [
    "df['Sector'].value_counts()"
   ]
  },
  {
   "cell_type": "code",
   "execution_count": 24,
   "id": "29b59bd8-3cd3-483c-a6eb-c40d91eb183b",
   "metadata": {},
   "outputs": [],
   "source": [
    "## To fill missing values"
   ]
  },
  {
   "cell_type": "code",
   "execution_count": 25,
   "id": "37c1669a-6a5e-41fa-a659-153848efa3c8",
   "metadata": {
    "scrolled": true
   },
   "outputs": [],
   "source": [
    "for i in df.index:\n",
    "    if pd.isna(df.at[i, 'facing']):\n",
    "        try:\n",
    "            sect = df['Sector'].loc[i]\n",
    "            df['facing'].loc[i] =  df[df['Sector'] == sect]['facing'].mode().values[0]\n",
    "        except:\n",
    "            df['facing'].loc[i] = 'East'"
   ]
  },
  {
   "cell_type": "code",
   "execution_count": 26,
   "id": "6177c5ae-383a-488b-bec9-928729011df8",
   "metadata": {
    "scrolled": true
   },
   "outputs": [
    {
     "data": {
      "text/plain": [
       "False"
      ]
     },
     "execution_count": 26,
     "metadata": {},
     "output_type": "execute_result"
    }
   ],
   "source": [
    "df['facing'].loc[6] == 'nan'"
   ]
  },
  {
   "cell_type": "code",
   "execution_count": 27,
   "id": "ae167a10-8174-4f03-bb1e-f0e09efdf697",
   "metadata": {},
   "outputs": [
    {
     "data": {
      "text/plain": [
       "False"
      ]
     },
     "execution_count": 27,
     "metadata": {},
     "output_type": "execute_result"
    }
   ],
   "source": [
    "pd.isna(df.at[5, 'facing'])"
   ]
  },
  {
   "cell_type": "code",
   "execution_count": 28,
   "id": "840cdff5-93ed-4a0a-98ae-dba2ec8c5e0d",
   "metadata": {},
   "outputs": [
    {
     "data": {
      "text/plain": [
       "facing\n",
       "East          3456\n",
       "North-East    2636\n",
       "North          707\n",
       "North-West     539\n",
       "South-East     417\n",
       "West           377\n",
       "South-West     180\n",
       "South          117\n",
       "Name: count, dtype: int64"
      ]
     },
     "execution_count": 28,
     "metadata": {},
     "output_type": "execute_result"
    }
   ],
   "source": [
    "df['facing'].value_counts()"
   ]
  },
  {
   "cell_type": "code",
   "execution_count": 29,
   "id": "f0ef3a3c-afad-4f17-9f20-be01d7446397",
   "metadata": {},
   "outputs": [
    {
     "data": {
      "image/png": "[encoded data removed]",
      "text/plain": [
       "<Figure size 640x480 with 1 Axes>"
      ]
     },
     "metadata": {},
     "output_type": "display_data"
    }
   ],
   "source": [
    "df['facing'].value_counts().plot(kind='pie',autopct='%0.2f%%')\n",
    "plt.show()"
   ]
  },
  {
   "cell_type": "code",
   "execution_count": 30,
   "id": "4a501427-1e8d-40d0-9370-5f14c1f08f2b",
   "metadata": {},
   "outputs": [
    {
     "data": {
      "text/plain": [
       "Society           4583\n",
       "address2             4\n",
       "Super Built Up    5181\n",
       "Carpet area       4435\n",
       "Plot Area         5316\n",
       "additionalRoom    3075\n",
       "Overlooking       2147\n",
       "Flooring          2143\n",
       "RoadFacing        3716\n",
       "WaterSource       1649\n",
       "furnishDetails    2049\n",
       "dtype: int64"
      ]
     },
     "execution_count": 30,
     "metadata": {},
     "output_type": "execute_result"
    }
   ],
   "source": [
    "df.isna().sum()[df.isna().sum() > 0]"
   ]
  },
  {
   "cell_type": "markdown",
   "id": "b02e3d3b-9b93-4e9c-8ed9-07660d31c03d",
   "metadata": {},
   "source": [
    "### Flooring"
   ]
  },
  {
   "cell_type": "code",
   "execution_count": 31,
   "id": "d235b9c9-c9b0-4042-8a74-729d340cd7e6",
   "metadata": {},
   "outputs": [
    {
     "data": {
      "text/plain": [
       "Flooring\n",
       "Vitrified            2700\n",
       "Marble               1822\n",
       "Ceramic               624\n",
       "Granite               349\n",
       "Wood                  210\n",
       "Mosaic                193\n",
       "Others                151\n",
       "Concrete              140\n",
       "Stone                  48\n",
       "Cement                 23\n",
       "Polished concrete      11\n",
       "Vinyl                   7\n",
       "Spartex                 5\n",
       "IPSFinish               3\n",
       "Name: count, dtype: int64"
      ]
     },
     "execution_count": 31,
     "metadata": {},
     "output_type": "execute_result"
    }
   ],
   "source": [
    "df['Flooring'].value_counts()"
   ]
  },
  {
   "cell_type": "code",
   "execution_count": 32,
   "id": "83bfbc2e-285d-4892-b94c-c22a7186e1eb",
   "metadata": {},
   "outputs": [],
   "source": [
    "temp = df['Flooring'].value_counts().reset_index()"
   ]
  },
  {
   "cell_type": "code",
   "execution_count": 33,
   "id": "d1c3a870-708f-44e7-b0ef-8cd464598f8f",
   "metadata": {},
   "outputs": [
    {
     "data": {
      "image/png": "[encoded data removed]",
      "text/plain": [
       "<Figure size 640x480 with 1 Axes>"
      ]
     },
     "metadata": {},
     "output_type": "display_data"
    }
   ],
   "source": [
    "sns.barplot(data = temp,x = temp['Flooring'],y = temp['count'])\n",
    "plt.xticks(rotation=90)\n",
    "plt.show()"
   ]
  },
  {
   "cell_type": "code",
   "execution_count": 34,
   "id": "2fe30981-93cf-4a3b-b6cb-47907659165d",
   "metadata": {},
   "outputs": [
    {
     "data": {
      "image/png": "[encoded data removed]",
      "text/plain": [
       "<Figure size 640x480 with 1 Axes>"
      ]
     },
     "metadata": {},
     "output_type": "display_data"
    }
   ],
   "source": [
    "sns.boxplot(df,x='Flooring',y='price')\n",
    "plt.xticks(rotation=90)\n",
    "plt.show()"
   ]
  },
  {
   "cell_type": "code",
   "execution_count": 35,
   "id": "5dee0f2b-edd7-40c9-96de-43c759cefa57",
   "metadata": {},
   "outputs": [
    {
     "data": {
      "text/plain": [
       "agePossession\n",
       "New         2987\n",
       "Old         1731\n",
       "RelNew      1681\n",
       "ModOld      1039\n",
       "UndConst     991\n",
       "Name: count, dtype: int64"
      ]
     },
     "execution_count": 35,
     "metadata": {},
     "output_type": "execute_result"
    }
   ],
   "source": [
    "df['agePossession'].value_counts()"
   ]
  },
  {
   "cell_type": "code",
   "execution_count": 36,
   "id": "46078991-1556-4a69-b5c5-cbbf9c9f8019",
   "metadata": {},
   "outputs": [
    {
     "name": "stdout",
     "output_type": "stream",
     "text": [
      "New : Vitrified\n",
      "Old : Marble\n",
      "RelNew : Vitrified\n",
      "ModOld : Vitrified\n",
      "UndConst : Vitrified\n"
     ]
    }
   ],
   "source": [
    "for i in df['agePossession'].value_counts().index:\n",
    "    print(f\"{i} : {df[df['agePossession'] == i ]['Flooring'].mode().values[0]}\")"
   ]
  },
  {
   "cell_type": "markdown",
   "id": "2f88cea7-ddfa-4641-ac1d-4cd36d70258f",
   "metadata": {},
   "source": [
    "Above experiment shows that most old properties have marble flooring whereas newer propeties have vitrified flooring."
   ]
  },
  {
   "cell_type": "markdown",
   "id": "984a056c-b932-4de9-b560-bc283dfcd3ec",
   "metadata": {},
   "source": [
    "Therefore we will fill missing values of old properties with Marble and others with Vitrified."
   ]
  },
  {
   "cell_type": "code",
   "execution_count": 37,
   "id": "7cb9df88-71eb-4d12-b9cd-fcd8d6081328",
   "metadata": {},
   "outputs": [],
   "source": [
    "for i in df.index:\n",
    "    if pd.isna(df.at[i, 'Flooring']):\n",
    "        if df['agePossession'].loc[i] == 'Old':\n",
    "            df['Flooring'].loc[i] = 'Marble'\n",
    "        else:\n",
    "            df['Flooring'].loc[i] = 'Vitrified'"
   ]
  },
  {
   "cell_type": "code",
   "execution_count": 38,
   "id": "5df02b7d-0a1b-467a-a650-55b1f9f9b6c7",
   "metadata": {},
   "outputs": [
    {
     "data": {
      "text/plain": [
       "Flooring\n",
       "Vitrified            4254\n",
       "Marble               2411\n",
       "Ceramic               624\n",
       "Granite               349\n",
       "Wood                  210\n",
       "Mosaic                193\n",
       "Others                151\n",
       "Concrete              140\n",
       "Stone                  48\n",
       "Cement                 23\n",
       "Polished concrete      11\n",
       "Vinyl                   7\n",
       "Spartex                 5\n",
       "IPSFinish               3\n",
       "Name: count, dtype: int64"
      ]
     },
     "execution_count": 38,
     "metadata": {},
     "output_type": "execute_result"
    }
   ],
   "source": [
    "df['Flooring'].value_counts()"
   ]
  },
  {
   "cell_type": "code",
   "execution_count": 39,
   "id": "d0b90ffd-2486-4c35-9d93-4d990b3aedb9",
   "metadata": {},
   "outputs": [
    {
     "data": {
      "image/png": "[encoded data removed]",
      "text/plain": [
       "<Figure size 640x480 with 1 Axes>"
      ]
     },
     "metadata": {},
     "output_type": "display_data"
    }
   ],
   "source": [
    "sns.barplot(data = temp,x = temp['Flooring'],y = temp['count'])\n",
    "plt.xticks(rotation=90)\n",
    "plt.show()"
   ]
  },
  {
   "cell_type": "code",
   "execution_count": 41,
   "id": "d66f5c80-3662-4d0f-bebe-4a6d3b6fb4ac",
   "metadata": {},
   "outputs": [],
   "source": [
    "df.to_csv(\"data/final-imputed/final-full-imputed-v1.csv\",index = False)"
   ]
  },
  {
   "cell_type": "code",
   "execution_count": null,
   "id": "3f91edb9-0dd9-4791-a4d5-fb5871ff845f",
   "metadata": {},
   "outputs": [],
   "source": []
  }
 ],
 "metadata": {
  "kernelspec": {
   "display_name": "Python 3 (ipykernel)",
   "language": "python",
   "name": "python3"
  },
  "language_info": {
   "codemirror_mode": {
    "name": "ipython",
    "version": 3
   },
   "file_extension": ".py",
   "mimetype": "text/x-python",
   "name": "python",
   "nbconvert_exporter": "python",
   "pygments_lexer": "ipython3",
   "version": "3.11.5"
  }
 },
 "nbformat": 4,
 "nbformat_minor": 5
}

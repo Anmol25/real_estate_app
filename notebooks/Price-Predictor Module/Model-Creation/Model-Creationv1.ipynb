{
 "cells": [
  {
   "cell_type": "code",
   "execution_count": 1,
   "id": "ff31f2e9-ea98-4aac-b1c7-3c3adecf2f6a",
   "metadata": {},
   "outputs": [],
   "source": [
    "import numpy as np\n",
    "import pandas as pd\n",
    "from sklearn.preprocessing import OrdinalEncoder\n",
    "from sklearn.preprocessing import StandardScaler\n",
    "from sklearn.pipeline import Pipeline\n",
    "from sklearn.model_selection import cross_val_score,KFold, cross_validate\n",
    "from sklearn.compose import ColumnTransformer\n",
    "from catboost import CatBoostRegressor"
   ]
  },
  {
   "cell_type": "code",
   "execution_count": 31,
   "id": "27caf3e3-e6a9-49bb-897f-d23a1efd0229",
   "metadata": {},
   "outputs": [],
   "source": [
    "import pickle"
   ]
  },
  {
   "cell_type": "code",
   "execution_count": 2,
   "id": "e541e0f1-7141-482d-b03d-a353fb90d4d1",
   "metadata": {},
   "outputs": [],
   "source": [
    "pd.options.display.max_columns = None"
   ]
  },
  {
   "cell_type": "code",
   "execution_count": 3,
   "id": "24fbd029-07a7-4020-9989-46cd17d3f72e",
   "metadata": {},
   "outputs": [
    {
     "data": {
      "text/html": [
       "<div>\n",
       "<style scoped>\n",
       "    .dataframe tbody tr th:only-of-type {\n",
       "        vertical-align: middle;\n",
       "    }\n",
       "\n",
       "    .dataframe tbody tr th {\n",
       "        vertical-align: top;\n",
       "    }\n",
       "\n",
       "    .dataframe thead th {\n",
       "        text-align: right;\n",
       "    }\n",
       "</style>\n",
       "<table border=\"1\" class=\"dataframe\">\n",
       "  <thead>\n",
       "    <tr style=\"text-align: right;\">\n",
       "      <th></th>\n",
       "      <th>property_type</th>\n",
       "      <th>Sector</th>\n",
       "      <th>City</th>\n",
       "      <th>Area</th>\n",
       "      <th>bedRoom</th>\n",
       "      <th>bathroom</th>\n",
       "      <th>balcony</th>\n",
       "      <th>Pooja Room</th>\n",
       "      <th>Servant Room</th>\n",
       "      <th>Store Room</th>\n",
       "      <th>Study Room</th>\n",
       "      <th>Other Room</th>\n",
       "      <th>facing</th>\n",
       "      <th>FloorNo</th>\n",
       "      <th>FloorRise</th>\n",
       "      <th>Main Road</th>\n",
       "      <th>Park/Garden</th>\n",
       "      <th>Pool</th>\n",
       "      <th>Club</th>\n",
       "      <th>Overlook Others</th>\n",
       "      <th>agePossession</th>\n",
       "      <th>Flooring</th>\n",
       "      <th>GatedCommunity</th>\n",
       "      <th>Furnishing</th>\n",
       "      <th>CoveredParking</th>\n",
       "      <th>OpenParking</th>\n",
       "      <th>24*7 Water</th>\n",
       "      <th>MuniCorp Water</th>\n",
       "      <th>Borewell/Tank</th>\n",
       "      <th>PowerBackup</th>\n",
       "      <th>WheelChairFriendly</th>\n",
       "      <th>PetFriendly</th>\n",
       "      <th>Facilities Categories</th>\n",
       "      <th>price</th>\n",
       "    </tr>\n",
       "  </thead>\n",
       "  <tbody>\n",
       "    <tr>\n",
       "      <th>0</th>\n",
       "      <td>House/Villa</td>\n",
       "      <td>Sector 15 Chandigarh</td>\n",
       "      <td>Chandigarh</td>\n",
       "      <td>18000.0</td>\n",
       "      <td>7</td>\n",
       "      <td>7</td>\n",
       "      <td>4</td>\n",
       "      <td>0</td>\n",
       "      <td>1</td>\n",
       "      <td>0</td>\n",
       "      <td>0</td>\n",
       "      <td>0</td>\n",
       "      <td>North-West</td>\n",
       "      <td>0</td>\n",
       "      <td>Low-Rise</td>\n",
       "      <td>0</td>\n",
       "      <td>0</td>\n",
       "      <td>0</td>\n",
       "      <td>0</td>\n",
       "      <td>1</td>\n",
       "      <td>Old</td>\n",
       "      <td>Marble</td>\n",
       "      <td>No</td>\n",
       "      <td>Semifurnished</td>\n",
       "      <td>3</td>\n",
       "      <td>3</td>\n",
       "      <td>1</td>\n",
       "      <td>1</td>\n",
       "      <td>0</td>\n",
       "      <td>No</td>\n",
       "      <td>Yes</td>\n",
       "      <td>Yes</td>\n",
       "      <td>Standard</td>\n",
       "      <td>28.0</td>\n",
       "    </tr>\n",
       "  </tbody>\n",
       "</table>\n",
       "</div>"
      ],
      "text/plain": [
       "  property_type                Sector        City     Area  bedRoom  bathroom  \\\n",
       "0   House/Villa  Sector 15 Chandigarh  Chandigarh  18000.0        7         7   \n",
       "\n",
       "   balcony  Pooja Room  Servant Room  Store Room  Study Room  Other Room  \\\n",
       "0        4           0             1           0           0           0   \n",
       "\n",
       "       facing  FloorNo FloorRise  Main Road  Park/Garden  Pool  Club  \\\n",
       "0  North-West        0  Low-Rise          0            0     0     0   \n",
       "\n",
       "   Overlook Others agePossession Flooring GatedCommunity     Furnishing  \\\n",
       "0                1           Old   Marble             No  Semifurnished   \n",
       "\n",
       "   CoveredParking  OpenParking  24*7 Water  MuniCorp Water  Borewell/Tank  \\\n",
       "0               3            3           1               1              0   \n",
       "\n",
       "  PowerBackup WheelChairFriendly PetFriendly Facilities Categories  price  \n",
       "0          No                Yes         Yes              Standard   28.0  "
      ]
     },
     "execution_count": 3,
     "metadata": {},
     "output_type": "execute_result"
    }
   ],
   "source": [
    "main_df = pd.read_csv(\"data/predictor-data-final.csv\")\n",
    "df = main_df.copy()\n",
    "df.head(1)"
   ]
  },
  {
   "cell_type": "markdown",
   "id": "6faeaadc-2b3f-4f5a-876b-8a99dea76a7c",
   "metadata": {},
   "source": [
    "Dropping Unnecessary columns."
   ]
  },
  {
   "cell_type": "code",
   "execution_count": 4,
   "id": "8fd5dc48-1fa7-435b-a4e9-248f89fd2652",
   "metadata": {},
   "outputs": [],
   "source": [
    "cols_drop = ['Pooja Room','Servant Room','Study Room','Store Room','Other Room','Main Road','Park/Garden','Club','Overlook Others','Pool','PetFriendly','WheelChairFriendly']"
   ]
  },
  {
   "cell_type": "code",
   "execution_count": 5,
   "id": "85e43e40-b1a9-4227-a6f0-d8a25fba260e",
   "metadata": {},
   "outputs": [],
   "source": [
    "df.drop(columns = cols_drop,inplace = True)"
   ]
  },
  {
   "cell_type": "code",
   "execution_count": 6,
   "id": "8354656d-ee39-452a-8bfc-7266b4fb891a",
   "metadata": {},
   "outputs": [
    {
     "data": {
      "text/html": [
       "<div>\n",
       "<style scoped>\n",
       "    .dataframe tbody tr th:only-of-type {\n",
       "        vertical-align: middle;\n",
       "    }\n",
       "\n",
       "    .dataframe tbody tr th {\n",
       "        vertical-align: top;\n",
       "    }\n",
       "\n",
       "    .dataframe thead th {\n",
       "        text-align: right;\n",
       "    }\n",
       "</style>\n",
       "<table border=\"1\" class=\"dataframe\">\n",
       "  <thead>\n",
       "    <tr style=\"text-align: right;\">\n",
       "      <th></th>\n",
       "      <th>property_type</th>\n",
       "      <th>Sector</th>\n",
       "      <th>City</th>\n",
       "      <th>Area</th>\n",
       "      <th>bedRoom</th>\n",
       "      <th>bathroom</th>\n",
       "      <th>balcony</th>\n",
       "      <th>facing</th>\n",
       "      <th>FloorNo</th>\n",
       "      <th>FloorRise</th>\n",
       "      <th>agePossession</th>\n",
       "      <th>Flooring</th>\n",
       "      <th>GatedCommunity</th>\n",
       "      <th>Furnishing</th>\n",
       "      <th>CoveredParking</th>\n",
       "      <th>OpenParking</th>\n",
       "      <th>24*7 Water</th>\n",
       "      <th>MuniCorp Water</th>\n",
       "      <th>Borewell/Tank</th>\n",
       "      <th>PowerBackup</th>\n",
       "      <th>Facilities Categories</th>\n",
       "      <th>price</th>\n",
       "    </tr>\n",
       "  </thead>\n",
       "  <tbody>\n",
       "    <tr>\n",
       "      <th>0</th>\n",
       "      <td>House/Villa</td>\n",
       "      <td>Sector 15 Chandigarh</td>\n",
       "      <td>Chandigarh</td>\n",
       "      <td>18000.0</td>\n",
       "      <td>7</td>\n",
       "      <td>7</td>\n",
       "      <td>4</td>\n",
       "      <td>North-West</td>\n",
       "      <td>0</td>\n",
       "      <td>Low-Rise</td>\n",
       "      <td>Old</td>\n",
       "      <td>Marble</td>\n",
       "      <td>No</td>\n",
       "      <td>Semifurnished</td>\n",
       "      <td>3</td>\n",
       "      <td>3</td>\n",
       "      <td>1</td>\n",
       "      <td>1</td>\n",
       "      <td>0</td>\n",
       "      <td>No</td>\n",
       "      <td>Standard</td>\n",
       "      <td>28.0</td>\n",
       "    </tr>\n",
       "  </tbody>\n",
       "</table>\n",
       "</div>"
      ],
      "text/plain": [
       "  property_type                Sector        City     Area  bedRoom  bathroom  \\\n",
       "0   House/Villa  Sector 15 Chandigarh  Chandigarh  18000.0        7         7   \n",
       "\n",
       "   balcony      facing  FloorNo FloorRise agePossession Flooring  \\\n",
       "0        4  North-West        0  Low-Rise           Old   Marble   \n",
       "\n",
       "  GatedCommunity     Furnishing  CoveredParking  OpenParking  24*7 Water  \\\n",
       "0             No  Semifurnished               3            3           1   \n",
       "\n",
       "   MuniCorp Water  Borewell/Tank PowerBackup Facilities Categories  price  \n",
       "0               1              0          No              Standard   28.0  "
      ]
     },
     "execution_count": 6,
     "metadata": {},
     "output_type": "execute_result"
    }
   ],
   "source": [
    "df.head(1)"
   ]
  },
  {
   "cell_type": "markdown",
   "id": "53963f71-58c0-45aa-b5dc-6670d40f0508",
   "metadata": {},
   "source": [
    "### Transforming Columns"
   ]
  },
  {
   "cell_type": "code",
   "execution_count": 7,
   "id": "680d39d2-4848-4fd4-b768-a150e015d994",
   "metadata": {},
   "outputs": [],
   "source": [
    "df['price'] = np.log1p(df['price'])\n",
    "df['Area'] = np.log(df['Area'])"
   ]
  },
  {
   "cell_type": "markdown",
   "id": "5e450afb-c088-4640-a4f6-8758b7910cee",
   "metadata": {},
   "source": [
    "### Encoding Columns"
   ]
  },
  {
   "cell_type": "code",
   "execution_count": 8,
   "id": "78b2ba35-51ef-4d7b-8be3-507c4ff56fb3",
   "metadata": {},
   "outputs": [],
   "source": [
    "all_cat_cols = ['property_type','Sector','City','facing','FloorRise','agePossession','Flooring','GatedCommunity','Furnishing','PowerBackup','Facilities Categories']\n",
    "cols_order = ['agePossession','Furnishing','PowerBackup','Facilities Categories']\n",
    "cols_no_order = ['property_type','Sector','City','facing','FloorRise','Flooring','GatedCommunity']"
   ]
  },
  {
   "cell_type": "code",
   "execution_count": 9,
   "id": "975bb19c-6280-466c-81a7-da601ce07325",
   "metadata": {},
   "outputs": [],
   "source": [
    "cols_order_cats = [['Old','ModOld','RelNew','New','UndConst'],['Unfurnished','Semifurnished','Furnished'],\n",
    "                   ['No','Partial','Full'],['Basic','Standard','Premium','Luxurious']]"
   ]
  },
  {
   "cell_type": "code",
   "execution_count": 10,
   "id": "7ec8ca7c-3568-43df-b14d-b828dcb84d83",
   "metadata": {},
   "outputs": [],
   "source": [
    "transformer = ColumnTransformer(\n",
    "    [\n",
    "        ('order_cols',OrdinalEncoder(categories=cols_order_cats),cols_order),\n",
    "        ('no_order_cols',OrdinalEncoder(handle_unknown='use_encoded_value', unknown_value=-1),cols_no_order)\n",
    "    ],\n",
    "    remainder='passthrough'\n",
    ")"
   ]
  },
  {
   "cell_type": "markdown",
   "id": "f7459056-ce26-472b-8df8-b524c765e8c3",
   "metadata": {},
   "source": [
    "### Making Model"
   ]
  },
  {
   "cell_type": "code",
   "execution_count": 11,
   "id": "a4c7cf86-fd94-4de8-9b75-0221cfed73e1",
   "metadata": {},
   "outputs": [],
   "source": [
    "X = df.iloc[:,:-1]\n",
    "y = df.iloc[:,-1]"
   ]
  },
  {
   "cell_type": "code",
   "execution_count": 12,
   "id": "88c6858b-415e-4fdc-9111-8844e1b0363e",
   "metadata": {},
   "outputs": [],
   "source": [
    "model = Pipeline(\n",
    "    [('encoding',transformer),\n",
    "    ('scaler',StandardScaler()),\n",
    "    ('cat_boost',CatBoostRegressor(verbose = False))]    \n",
    ")"
   ]
  },
  {
   "cell_type": "code",
   "execution_count": 13,
   "id": "205bbc36-9d87-494f-a525-661a0dc85603",
   "metadata": {},
   "outputs": [],
   "source": [
    "kf = KFold(n_splits=5, shuffle=True, random_state=42)\n",
    "scoring = ['r2', 'neg_mean_absolute_error']"
   ]
  },
  {
   "cell_type": "code",
   "execution_count": 14,
   "id": "139ca2cc-573d-4b37-aa9f-88edcdda3f85",
   "metadata": {},
   "outputs": [
    {
     "data": {
      "text/html": [
       "<div>\n",
       "<style scoped>\n",
       "    .dataframe tbody tr th:only-of-type {\n",
       "        vertical-align: middle;\n",
       "    }\n",
       "\n",
       "    .dataframe tbody tr th {\n",
       "        vertical-align: top;\n",
       "    }\n",
       "\n",
       "    .dataframe thead th {\n",
       "        text-align: right;\n",
       "    }\n",
       "</style>\n",
       "<table border=\"1\" class=\"dataframe\">\n",
       "  <thead>\n",
       "    <tr style=\"text-align: right;\">\n",
       "      <th></th>\n",
       "      <th>property_type</th>\n",
       "      <th>Sector</th>\n",
       "      <th>City</th>\n",
       "      <th>Area</th>\n",
       "      <th>bedRoom</th>\n",
       "      <th>bathroom</th>\n",
       "      <th>balcony</th>\n",
       "      <th>facing</th>\n",
       "      <th>FloorNo</th>\n",
       "      <th>FloorRise</th>\n",
       "      <th>agePossession</th>\n",
       "      <th>Flooring</th>\n",
       "      <th>GatedCommunity</th>\n",
       "      <th>Furnishing</th>\n",
       "      <th>CoveredParking</th>\n",
       "      <th>OpenParking</th>\n",
       "      <th>24*7 Water</th>\n",
       "      <th>MuniCorp Water</th>\n",
       "      <th>Borewell/Tank</th>\n",
       "      <th>PowerBackup</th>\n",
       "      <th>Facilities Categories</th>\n",
       "      <th>price</th>\n",
       "    </tr>\n",
       "  </thead>\n",
       "  <tbody>\n",
       "    <tr>\n",
       "      <th>0</th>\n",
       "      <td>House/Villa</td>\n",
       "      <td>Sector 15 Chandigarh</td>\n",
       "      <td>Chandigarh</td>\n",
       "      <td>9.798127</td>\n",
       "      <td>7</td>\n",
       "      <td>7</td>\n",
       "      <td>4</td>\n",
       "      <td>North-West</td>\n",
       "      <td>0</td>\n",
       "      <td>Low-Rise</td>\n",
       "      <td>Old</td>\n",
       "      <td>Marble</td>\n",
       "      <td>No</td>\n",
       "      <td>Semifurnished</td>\n",
       "      <td>3</td>\n",
       "      <td>3</td>\n",
       "      <td>1</td>\n",
       "      <td>1</td>\n",
       "      <td>0</td>\n",
       "      <td>No</td>\n",
       "      <td>Standard</td>\n",
       "      <td>3.367296</td>\n",
       "    </tr>\n",
       "  </tbody>\n",
       "</table>\n",
       "</div>"
      ],
      "text/plain": [
       "  property_type                Sector        City      Area  bedRoom  \\\n",
       "0   House/Villa  Sector 15 Chandigarh  Chandigarh  9.798127        7   \n",
       "\n",
       "   bathroom  balcony      facing  FloorNo FloorRise agePossession Flooring  \\\n",
       "0         7        4  North-West        0  Low-Rise           Old   Marble   \n",
       "\n",
       "  GatedCommunity     Furnishing  CoveredParking  OpenParking  24*7 Water  \\\n",
       "0             No  Semifurnished               3            3           1   \n",
       "\n",
       "   MuniCorp Water  Borewell/Tank PowerBackup Facilities Categories     price  \n",
       "0               1              0          No              Standard  3.367296  "
      ]
     },
     "execution_count": 14,
     "metadata": {},
     "output_type": "execute_result"
    }
   ],
   "source": [
    "df.head(1)"
   ]
  },
  {
   "cell_type": "code",
   "execution_count": 15,
   "id": "1f978de4-29b5-45eb-9590-374c0ca8adf0",
   "metadata": {},
   "outputs": [
    {
     "name": "stdout",
     "output_type": "stream",
     "text": [
      "R2: 0.9607 ± 0.0021\n",
      "MAE: 0.0961 ± 0.0013\n"
     ]
    }
   ],
   "source": [
    "## CatBoostRegressor\n",
    "cat_scores = cross_validate(model, X, y, cv=kf, scoring=scoring,return_train_score = True)\n",
    "print(f\"R2: {np.mean(cat_scores['test_r2']):.4f} ± {np.std(cat_scores['test_r2']):.4f}\")\n",
    "print(f\"MAE: {np.expm1(-np.mean(cat_scores['test_neg_mean_absolute_error'])):.4f} ± {np.expm1(np.std(cat_scores['test_neg_mean_absolute_error'])):.4f}\")"
   ]
  },
  {
   "cell_type": "code",
   "execution_count": 16,
   "id": "22e71222-2a2c-48fa-b43c-dad087641de8",
   "metadata": {},
   "outputs": [
    {
     "data": {
      "text/html": [
       "<style>#sk-container-id-1 {color: black;}#sk-container-id-1 pre{padding: 0;}#sk-container-id-1 div.sk-toggleable {background-color: white;}#sk-container-id-1 label.sk-toggleable__label {cursor: pointer;display: block;width: 100%;margin-bottom: 0;padding: 0.3em;box-sizing: border-box;text-align: center;}#sk-container-id-1 label.sk-toggleable__label-arrow:before {content: \"▸\";float: left;margin-right: 0.25em;color: #696969;}#sk-container-id-1 label.sk-toggleable__label-arrow:hover:before {color: black;}#sk-container-id-1 div.sk-estimator:hover label.sk-toggleable__label-arrow:before {color: black;}#sk-container-id-1 div.sk-toggleable__content {max-height: 0;max-width: 0;overflow: hidden;text-align: left;background-color: #f0f8ff;}#sk-container-id-1 div.sk-toggleable__content pre {margin: 0.2em;color: black;border-radius: 0.25em;background-color: #f0f8ff;}#sk-container-id-1 input.sk-toggleable__control:checked~div.sk-toggleable__content {max-height: 200px;max-width: 100%;overflow: auto;}#sk-container-id-1 input.sk-toggleable__control:checked~label.sk-toggleable__label-arrow:before {content: \"▾\";}#sk-container-id-1 div.sk-estimator input.sk-toggleable__control:checked~label.sk-toggleable__label {background-color: #d4ebff;}#sk-container-id-1 div.sk-label input.sk-toggleable__control:checked~label.sk-toggleable__label {background-color: #d4ebff;}#sk-container-id-1 input.sk-hidden--visually {border: 0;clip: rect(1px 1px 1px 1px);clip: rect(1px, 1px, 1px, 1px);height: 1px;margin: -1px;overflow: hidden;padding: 0;position: absolute;width: 1px;}#sk-container-id-1 div.sk-estimator {font-family: monospace;background-color: #f0f8ff;border: 1px dotted black;border-radius: 0.25em;box-sizing: border-box;margin-bottom: 0.5em;}#sk-container-id-1 div.sk-estimator:hover {background-color: #d4ebff;}#sk-container-id-1 div.sk-parallel-item::after {content: \"\";width: 100%;border-bottom: 1px solid gray;flex-grow: 1;}#sk-container-id-1 div.sk-label:hover label.sk-toggleable__label {background-color: #d4ebff;}#sk-container-id-1 div.sk-serial::before {content: \"\";position: absolute;border-left: 1px solid gray;box-sizing: border-box;top: 0;bottom: 0;left: 50%;z-index: 0;}#sk-container-id-1 div.sk-serial {display: flex;flex-direction: column;align-items: center;background-color: white;padding-right: 0.2em;padding-left: 0.2em;position: relative;}#sk-container-id-1 div.sk-item {position: relative;z-index: 1;}#sk-container-id-1 div.sk-parallel {display: flex;align-items: stretch;justify-content: center;background-color: white;position: relative;}#sk-container-id-1 div.sk-item::before, #sk-container-id-1 div.sk-parallel-item::before {content: \"\";position: absolute;border-left: 1px solid gray;box-sizing: border-box;top: 0;bottom: 0;left: 50%;z-index: -1;}#sk-container-id-1 div.sk-parallel-item {display: flex;flex-direction: column;z-index: 1;position: relative;background-color: white;}#sk-container-id-1 div.sk-parallel-item:first-child::after {align-self: flex-end;width: 50%;}#sk-container-id-1 div.sk-parallel-item:last-child::after {align-self: flex-start;width: 50%;}#sk-container-id-1 div.sk-parallel-item:only-child::after {width: 0;}#sk-container-id-1 div.sk-dashed-wrapped {border: 1px dashed gray;margin: 0 0.4em 0.5em 0.4em;box-sizing: border-box;padding-bottom: 0.4em;background-color: white;}#sk-container-id-1 div.sk-label label {font-family: monospace;font-weight: bold;display: inline-block;line-height: 1.2em;}#sk-container-id-1 div.sk-label-container {text-align: center;}#sk-container-id-1 div.sk-container {/* jupyter's `normalize.less` sets `[hidden] { display: none; }` but bootstrap.min.css set `[hidden] { display: none !important; }` so we also need the `!important` here to be able to override the default hidden behavior on the sphinx rendered scikit-learn.org. See: https://github.com/scikit-learn/scikit-learn/issues/21755 */display: inline-block !important;position: relative;}#sk-container-id-1 div.sk-text-repr-fallback {display: none;}</style><div id=\"sk-container-id-1\" class=\"sk-top-container\"><div class=\"sk-text-repr-fallback\"><pre>Pipeline(steps=[(&#x27;encoding&#x27;,\n",
       "                 ColumnTransformer(remainder=&#x27;passthrough&#x27;,\n",
       "                                   transformers=[(&#x27;order_cols&#x27;,\n",
       "                                                  OrdinalEncoder(categories=[[&#x27;Old&#x27;,\n",
       "                                                                              &#x27;ModOld&#x27;,\n",
       "                                                                              &#x27;RelNew&#x27;,\n",
       "                                                                              &#x27;New&#x27;,\n",
       "                                                                              &#x27;UndConst&#x27;],\n",
       "                                                                             [&#x27;Unfurnished&#x27;,\n",
       "                                                                              &#x27;Semifurnished&#x27;,\n",
       "                                                                              &#x27;Furnished&#x27;],\n",
       "                                                                             [&#x27;No&#x27;,\n",
       "                                                                              &#x27;Partial&#x27;,\n",
       "                                                                              &#x27;Full&#x27;],\n",
       "                                                                             [&#x27;Basic&#x27;,\n",
       "                                                                              &#x27;Standard&#x27;,\n",
       "                                                                              &#x27;Premium&#x27;,\n",
       "                                                                              &#x27;Luxurious&#x27;]]),\n",
       "                                                  [&#x27;agePossession&#x27;,\n",
       "                                                   &#x27;Furnishing&#x27;, &#x27;PowerBackup&#x27;,\n",
       "                                                   &#x27;Facilities Categories&#x27;]),\n",
       "                                                 (&#x27;no_order_cols&#x27;,\n",
       "                                                  OrdinalEncoder(handle_unknown=&#x27;use_encoded_value&#x27;,\n",
       "                                                                 unknown_value=-1),\n",
       "                                                  [&#x27;property_type&#x27;, &#x27;Sector&#x27;,\n",
       "                                                   &#x27;City&#x27;, &#x27;facing&#x27;,\n",
       "                                                   &#x27;FloorRise&#x27;, &#x27;Flooring&#x27;,\n",
       "                                                   &#x27;GatedCommunity&#x27;])])),\n",
       "                (&#x27;scaler&#x27;, StandardScaler()),\n",
       "                (&#x27;cat_boost&#x27;,\n",
       "                 &lt;catboost.core.CatBoostRegressor object at 0x0000018EABC5C130&gt;)])</pre><b>In a Jupyter environment, please rerun this cell to show the HTML representation or trust the notebook. <br />On GitHub, the HTML representation is unable to render, please try loading this page with nbviewer.org.</b></div><div class=\"sk-container\" hidden><div class=\"sk-item sk-dashed-wrapped\"><div class=\"sk-label-container\"><div class=\"sk-label sk-toggleable\"><input class=\"sk-toggleable__control sk-hidden--visually\" id=\"sk-estimator-id-1\" type=\"checkbox\" ><label for=\"sk-estimator-id-1\" class=\"sk-toggleable__label sk-toggleable__label-arrow\">Pipeline</label><div class=\"sk-toggleable__content\"><pre>Pipeline(steps=[(&#x27;encoding&#x27;,\n",
       "                 ColumnTransformer(remainder=&#x27;passthrough&#x27;,\n",
       "                                   transformers=[(&#x27;order_cols&#x27;,\n",
       "                                                  OrdinalEncoder(categories=[[&#x27;Old&#x27;,\n",
       "                                                                              &#x27;ModOld&#x27;,\n",
       "                                                                              &#x27;RelNew&#x27;,\n",
       "                                                                              &#x27;New&#x27;,\n",
       "                                                                              &#x27;UndConst&#x27;],\n",
       "                                                                             [&#x27;Unfurnished&#x27;,\n",
       "                                                                              &#x27;Semifurnished&#x27;,\n",
       "                                                                              &#x27;Furnished&#x27;],\n",
       "                                                                             [&#x27;No&#x27;,\n",
       "                                                                              &#x27;Partial&#x27;,\n",
       "                                                                              &#x27;Full&#x27;],\n",
       "                                                                             [&#x27;Basic&#x27;,\n",
       "                                                                              &#x27;Standard&#x27;,\n",
       "                                                                              &#x27;Premium&#x27;,\n",
       "                                                                              &#x27;Luxurious&#x27;]]),\n",
       "                                                  [&#x27;agePossession&#x27;,\n",
       "                                                   &#x27;Furnishing&#x27;, &#x27;PowerBackup&#x27;,\n",
       "                                                   &#x27;Facilities Categories&#x27;]),\n",
       "                                                 (&#x27;no_order_cols&#x27;,\n",
       "                                                  OrdinalEncoder(handle_unknown=&#x27;use_encoded_value&#x27;,\n",
       "                                                                 unknown_value=-1),\n",
       "                                                  [&#x27;property_type&#x27;, &#x27;Sector&#x27;,\n",
       "                                                   &#x27;City&#x27;, &#x27;facing&#x27;,\n",
       "                                                   &#x27;FloorRise&#x27;, &#x27;Flooring&#x27;,\n",
       "                                                   &#x27;GatedCommunity&#x27;])])),\n",
       "                (&#x27;scaler&#x27;, StandardScaler()),\n",
       "                (&#x27;cat_boost&#x27;,\n",
       "                 &lt;catboost.core.CatBoostRegressor object at 0x0000018EABC5C130&gt;)])</pre></div></div></div><div class=\"sk-serial\"><div class=\"sk-item sk-dashed-wrapped\"><div class=\"sk-label-container\"><div class=\"sk-label sk-toggleable\"><input class=\"sk-toggleable__control sk-hidden--visually\" id=\"sk-estimator-id-2\" type=\"checkbox\" ><label for=\"sk-estimator-id-2\" class=\"sk-toggleable__label sk-toggleable__label-arrow\">encoding: ColumnTransformer</label><div class=\"sk-toggleable__content\"><pre>ColumnTransformer(remainder=&#x27;passthrough&#x27;,\n",
       "                  transformers=[(&#x27;order_cols&#x27;,\n",
       "                                 OrdinalEncoder(categories=[[&#x27;Old&#x27;, &#x27;ModOld&#x27;,\n",
       "                                                             &#x27;RelNew&#x27;, &#x27;New&#x27;,\n",
       "                                                             &#x27;UndConst&#x27;],\n",
       "                                                            [&#x27;Unfurnished&#x27;,\n",
       "                                                             &#x27;Semifurnished&#x27;,\n",
       "                                                             &#x27;Furnished&#x27;],\n",
       "                                                            [&#x27;No&#x27;, &#x27;Partial&#x27;,\n",
       "                                                             &#x27;Full&#x27;],\n",
       "                                                            [&#x27;Basic&#x27;,\n",
       "                                                             &#x27;Standard&#x27;,\n",
       "                                                             &#x27;Premium&#x27;,\n",
       "                                                             &#x27;Luxurious&#x27;]]),\n",
       "                                 [&#x27;agePossession&#x27;, &#x27;Furnishing&#x27;, &#x27;PowerBackup&#x27;,\n",
       "                                  &#x27;Facilities Categories&#x27;]),\n",
       "                                (&#x27;no_order_cols&#x27;,\n",
       "                                 OrdinalEncoder(handle_unknown=&#x27;use_encoded_value&#x27;,\n",
       "                                                unknown_value=-1),\n",
       "                                 [&#x27;property_type&#x27;, &#x27;Sector&#x27;, &#x27;City&#x27;, &#x27;facing&#x27;,\n",
       "                                  &#x27;FloorRise&#x27;, &#x27;Flooring&#x27;, &#x27;GatedCommunity&#x27;])])</pre></div></div></div><div class=\"sk-parallel\"><div class=\"sk-parallel-item\"><div class=\"sk-item\"><div class=\"sk-label-container\"><div class=\"sk-label sk-toggleable\"><input class=\"sk-toggleable__control sk-hidden--visually\" id=\"sk-estimator-id-3\" type=\"checkbox\" ><label for=\"sk-estimator-id-3\" class=\"sk-toggleable__label sk-toggleable__label-arrow\">order_cols</label><div class=\"sk-toggleable__content\"><pre>[&#x27;agePossession&#x27;, &#x27;Furnishing&#x27;, &#x27;PowerBackup&#x27;, &#x27;Facilities Categories&#x27;]</pre></div></div></div><div class=\"sk-serial\"><div class=\"sk-item\"><div class=\"sk-estimator sk-toggleable\"><input class=\"sk-toggleable__control sk-hidden--visually\" id=\"sk-estimator-id-4\" type=\"checkbox\" ><label for=\"sk-estimator-id-4\" class=\"sk-toggleable__label sk-toggleable__label-arrow\">OrdinalEncoder</label><div class=\"sk-toggleable__content\"><pre>OrdinalEncoder(categories=[[&#x27;Old&#x27;, &#x27;ModOld&#x27;, &#x27;RelNew&#x27;, &#x27;New&#x27;, &#x27;UndConst&#x27;],\n",
       "                           [&#x27;Unfurnished&#x27;, &#x27;Semifurnished&#x27;, &#x27;Furnished&#x27;],\n",
       "                           [&#x27;No&#x27;, &#x27;Partial&#x27;, &#x27;Full&#x27;],\n",
       "                           [&#x27;Basic&#x27;, &#x27;Standard&#x27;, &#x27;Premium&#x27;, &#x27;Luxurious&#x27;]])</pre></div></div></div></div></div></div><div class=\"sk-parallel-item\"><div class=\"sk-item\"><div class=\"sk-label-container\"><div class=\"sk-label sk-toggleable\"><input class=\"sk-toggleable__control sk-hidden--visually\" id=\"sk-estimator-id-5\" type=\"checkbox\" ><label for=\"sk-estimator-id-5\" class=\"sk-toggleable__label sk-toggleable__label-arrow\">no_order_cols</label><div class=\"sk-toggleable__content\"><pre>[&#x27;property_type&#x27;, &#x27;Sector&#x27;, &#x27;City&#x27;, &#x27;facing&#x27;, &#x27;FloorRise&#x27;, &#x27;Flooring&#x27;, &#x27;GatedCommunity&#x27;]</pre></div></div></div><div class=\"sk-serial\"><div class=\"sk-item\"><div class=\"sk-estimator sk-toggleable\"><input class=\"sk-toggleable__control sk-hidden--visually\" id=\"sk-estimator-id-6\" type=\"checkbox\" ><label for=\"sk-estimator-id-6\" class=\"sk-toggleable__label sk-toggleable__label-arrow\">OrdinalEncoder</label><div class=\"sk-toggleable__content\"><pre>OrdinalEncoder(handle_unknown=&#x27;use_encoded_value&#x27;, unknown_value=-1)</pre></div></div></div></div></div></div><div class=\"sk-parallel-item\"><div class=\"sk-item\"><div class=\"sk-label-container\"><div class=\"sk-label sk-toggleable\"><input class=\"sk-toggleable__control sk-hidden--visually\" id=\"sk-estimator-id-7\" type=\"checkbox\" ><label for=\"sk-estimator-id-7\" class=\"sk-toggleable__label sk-toggleable__label-arrow\">remainder</label><div class=\"sk-toggleable__content\"><pre>[&#x27;Area&#x27;, &#x27;bedRoom&#x27;, &#x27;bathroom&#x27;, &#x27;balcony&#x27;, &#x27;FloorNo&#x27;, &#x27;CoveredParking&#x27;, &#x27;OpenParking&#x27;, &#x27;24*7 Water&#x27;, &#x27;MuniCorp Water&#x27;, &#x27;Borewell/Tank&#x27;]</pre></div></div></div><div class=\"sk-serial\"><div class=\"sk-item\"><div class=\"sk-estimator sk-toggleable\"><input class=\"sk-toggleable__control sk-hidden--visually\" id=\"sk-estimator-id-8\" type=\"checkbox\" ><label for=\"sk-estimator-id-8\" class=\"sk-toggleable__label sk-toggleable__label-arrow\">passthrough</label><div class=\"sk-toggleable__content\"><pre>passthrough</pre></div></div></div></div></div></div></div></div><div class=\"sk-item\"><div class=\"sk-estimator sk-toggleable\"><input class=\"sk-toggleable__control sk-hidden--visually\" id=\"sk-estimator-id-9\" type=\"checkbox\" ><label for=\"sk-estimator-id-9\" class=\"sk-toggleable__label sk-toggleable__label-arrow\">StandardScaler</label><div class=\"sk-toggleable__content\"><pre>StandardScaler()</pre></div></div></div><div class=\"sk-item\"><div class=\"sk-estimator sk-toggleable\"><input class=\"sk-toggleable__control sk-hidden--visually\" id=\"sk-estimator-id-10\" type=\"checkbox\" ><label for=\"sk-estimator-id-10\" class=\"sk-toggleable__label sk-toggleable__label-arrow\">CatBoostRegressor</label><div class=\"sk-toggleable__content\"><pre>&lt;catboost.core.CatBoostRegressor object at 0x0000018EABC5C130&gt;</pre></div></div></div></div></div></div></div>"
      ],
      "text/plain": [
       "Pipeline(steps=[('encoding',\n",
       "                 ColumnTransformer(remainder='passthrough',\n",
       "                                   transformers=[('order_cols',\n",
       "                                                  OrdinalEncoder(categories=[['Old',\n",
       "                                                                              'ModOld',\n",
       "                                                                              'RelNew',\n",
       "                                                                              'New',\n",
       "                                                                              'UndConst'],\n",
       "                                                                             ['Unfurnished',\n",
       "                                                                              'Semifurnished',\n",
       "                                                                              'Furnished'],\n",
       "                                                                             ['No',\n",
       "                                                                              'Partial',\n",
       "                                                                              'Full'],\n",
       "                                                                             ['Basic',\n",
       "                                                                              'Standard',\n",
       "                                                                              'Premium',\n",
       "                                                                              'Luxurious']]),\n",
       "                                                  ['agePossession',\n",
       "                                                   'Furnishing', 'PowerBackup',\n",
       "                                                   'Facilities Categories']),\n",
       "                                                 ('no_order_cols',\n",
       "                                                  OrdinalEncoder(handle_unknown='use_encoded_value',\n",
       "                                                                 unknown_value=-1),\n",
       "                                                  ['property_type', 'Sector',\n",
       "                                                   'City', 'facing',\n",
       "                                                   'FloorRise', 'Flooring',\n",
       "                                                   'GatedCommunity'])])),\n",
       "                ('scaler', StandardScaler()),\n",
       "                ('cat_boost',\n",
       "                 <catboost.core.CatBoostRegressor object at 0x0000018EABC5C130>)])"
      ]
     },
     "execution_count": 16,
     "metadata": {},
     "output_type": "execute_result"
    }
   ],
   "source": [
    "model.fit(X,y)"
   ]
  },
  {
   "cell_type": "code",
   "execution_count": 17,
   "id": "aed6a2e7-5328-4d76-86ce-fcca8433f51d",
   "metadata": {},
   "outputs": [],
   "source": [
    "cols_list = X.columns"
   ]
  },
  {
   "cell_type": "code",
   "execution_count": 18,
   "id": "3e6898d4-bffc-44a5-a032-c51cd57ba41e",
   "metadata": {},
   "outputs": [
    {
     "data": {
      "text/html": [
       "<div>\n",
       "<style scoped>\n",
       "    .dataframe tbody tr th:only-of-type {\n",
       "        vertical-align: middle;\n",
       "    }\n",
       "\n",
       "    .dataframe tbody tr th {\n",
       "        vertical-align: top;\n",
       "    }\n",
       "\n",
       "    .dataframe thead th {\n",
       "        text-align: right;\n",
       "    }\n",
       "</style>\n",
       "<table border=\"1\" class=\"dataframe\">\n",
       "  <thead>\n",
       "    <tr style=\"text-align: right;\">\n",
       "      <th></th>\n",
       "      <th>property_type</th>\n",
       "      <th>Sector</th>\n",
       "      <th>City</th>\n",
       "      <th>Area</th>\n",
       "      <th>bedRoom</th>\n",
       "      <th>bathroom</th>\n",
       "      <th>balcony</th>\n",
       "      <th>facing</th>\n",
       "      <th>FloorNo</th>\n",
       "      <th>FloorRise</th>\n",
       "      <th>agePossession</th>\n",
       "      <th>Flooring</th>\n",
       "      <th>GatedCommunity</th>\n",
       "      <th>Furnishing</th>\n",
       "      <th>CoveredParking</th>\n",
       "      <th>OpenParking</th>\n",
       "      <th>24*7 Water</th>\n",
       "      <th>MuniCorp Water</th>\n",
       "      <th>Borewell/Tank</th>\n",
       "      <th>PowerBackup</th>\n",
       "      <th>Facilities Categories</th>\n",
       "    </tr>\n",
       "  </thead>\n",
       "  <tbody>\n",
       "    <tr>\n",
       "      <th>0</th>\n",
       "      <td>House/Villa</td>\n",
       "      <td>Sector 15 Chandigarh</td>\n",
       "      <td>Chandigarh</td>\n",
       "      <td>9.798127</td>\n",
       "      <td>7</td>\n",
       "      <td>7</td>\n",
       "      <td>4</td>\n",
       "      <td>North-West</td>\n",
       "      <td>0</td>\n",
       "      <td>Low-Rise</td>\n",
       "      <td>Old</td>\n",
       "      <td>Marble</td>\n",
       "      <td>No</td>\n",
       "      <td>Semifurnished</td>\n",
       "      <td>3</td>\n",
       "      <td>3</td>\n",
       "      <td>1</td>\n",
       "      <td>1</td>\n",
       "      <td>0</td>\n",
       "      <td>No</td>\n",
       "      <td>Standard</td>\n",
       "    </tr>\n",
       "  </tbody>\n",
       "</table>\n",
       "</div>"
      ],
      "text/plain": [
       "  property_type                Sector        City      Area  bedRoom  \\\n",
       "0   House/Villa  Sector 15 Chandigarh  Chandigarh  9.798127        7   \n",
       "\n",
       "   bathroom  balcony      facing  FloorNo FloorRise agePossession Flooring  \\\n",
       "0         7        4  North-West        0  Low-Rise           Old   Marble   \n",
       "\n",
       "  GatedCommunity     Furnishing  CoveredParking  OpenParking  24*7 Water  \\\n",
       "0             No  Semifurnished               3            3           1   \n",
       "\n",
       "   MuniCorp Water  Borewell/Tank PowerBackup Facilities Categories  \n",
       "0               1              0          No              Standard  "
      ]
     },
     "execution_count": 18,
     "metadata": {},
     "output_type": "execute_result"
    }
   ],
   "source": [
    "X.head(1)"
   ]
  },
  {
   "cell_type": "code",
   "execution_count": 19,
   "id": "45b818d9-7eec-498f-b8e3-fcab5985e1f2",
   "metadata": {},
   "outputs": [],
   "source": [
    "#data = [['House/Villa','Dhakoli','Mohali',6.802394763324311,2,1,1,'South',0,'Low-Rise','Old','Vitrified','Yes','Semifurnished',1,2,0,1,1,'Partial','Standard']]"
   ]
  },
  {
   "cell_type": "code",
   "execution_count": 20,
   "id": "fa240ead-f741-4608-a937-9c042a525a68",
   "metadata": {},
   "outputs": [],
   "source": [
    "#data = [['Flat/Apartment','Sector 20 Panchkula','Panchkula',7.355641102974253,3,2,4,'North',5,'Mid-Rise','Old','Vitrified','Yes','Semifurnished',1,1,1,1,1,'Full','Standard']]"
   ]
  },
  {
   "cell_type": "code",
   "execution_count": 21,
   "id": "fd0f9866-16b0-4024-89e8-af38ed71df60",
   "metadata": {},
   "outputs": [],
   "source": [
    "#data = [['Flat/Apartment','Zirakpur','Mohali',7.155396301896734,3,3,3,'East',7,'Mid-Rise','New','Vitrified','Yes','Semifurnished',0,1,1,0,0,'Full','Standard']]"
   ]
  },
  {
   "cell_type": "code",
   "execution_count": 22,
   "id": "da1ae256-ae56-42d6-af00-b88b58fc0451",
   "metadata": {},
   "outputs": [],
   "source": [
    "data = [['Flat/Apartment','New Chandigarh','Mohali',7.400620577371135,3,2,3,'North-East',1,'Mid-Rise','UndConst','Ceramic','Yes','Semifurnished',2,1,1,0,0,'Full','Premium']]"
   ]
  },
  {
   "cell_type": "code",
   "execution_count": 23,
   "id": "f4fddb86-74f3-4a6d-a18b-404a3ce83d93",
   "metadata": {},
   "outputs": [],
   "source": [
    "one_df = pd.DataFrame(data, columns = cols_list)"
   ]
  },
  {
   "cell_type": "code",
   "execution_count": 24,
   "id": "51ec8e10-9d76-43f0-80ae-6b0759c38743",
   "metadata": {},
   "outputs": [
    {
     "data": {
      "text/html": [
       "<div>\n",
       "<style scoped>\n",
       "    .dataframe tbody tr th:only-of-type {\n",
       "        vertical-align: middle;\n",
       "    }\n",
       "\n",
       "    .dataframe tbody tr th {\n",
       "        vertical-align: top;\n",
       "    }\n",
       "\n",
       "    .dataframe thead th {\n",
       "        text-align: right;\n",
       "    }\n",
       "</style>\n",
       "<table border=\"1\" class=\"dataframe\">\n",
       "  <thead>\n",
       "    <tr style=\"text-align: right;\">\n",
       "      <th></th>\n",
       "      <th>property_type</th>\n",
       "      <th>Sector</th>\n",
       "      <th>City</th>\n",
       "      <th>Area</th>\n",
       "      <th>bedRoom</th>\n",
       "      <th>bathroom</th>\n",
       "      <th>balcony</th>\n",
       "      <th>facing</th>\n",
       "      <th>FloorNo</th>\n",
       "      <th>FloorRise</th>\n",
       "      <th>agePossession</th>\n",
       "      <th>Flooring</th>\n",
       "      <th>GatedCommunity</th>\n",
       "      <th>Furnishing</th>\n",
       "      <th>CoveredParking</th>\n",
       "      <th>OpenParking</th>\n",
       "      <th>24*7 Water</th>\n",
       "      <th>MuniCorp Water</th>\n",
       "      <th>Borewell/Tank</th>\n",
       "      <th>PowerBackup</th>\n",
       "      <th>Facilities Categories</th>\n",
       "    </tr>\n",
       "  </thead>\n",
       "  <tbody>\n",
       "    <tr>\n",
       "      <th>0</th>\n",
       "      <td>Flat/Apartment</td>\n",
       "      <td>New Chandigarh</td>\n",
       "      <td>Mohali</td>\n",
       "      <td>7.400621</td>\n",
       "      <td>3</td>\n",
       "      <td>2</td>\n",
       "      <td>3</td>\n",
       "      <td>North-East</td>\n",
       "      <td>1</td>\n",
       "      <td>Mid-Rise</td>\n",
       "      <td>UndConst</td>\n",
       "      <td>Ceramic</td>\n",
       "      <td>Yes</td>\n",
       "      <td>Semifurnished</td>\n",
       "      <td>2</td>\n",
       "      <td>1</td>\n",
       "      <td>1</td>\n",
       "      <td>0</td>\n",
       "      <td>0</td>\n",
       "      <td>Full</td>\n",
       "      <td>Premium</td>\n",
       "    </tr>\n",
       "  </tbody>\n",
       "</table>\n",
       "</div>"
      ],
      "text/plain": [
       "    property_type          Sector    City      Area  bedRoom  bathroom  \\\n",
       "0  Flat/Apartment  New Chandigarh  Mohali  7.400621        3         2   \n",
       "\n",
       "   balcony      facing  FloorNo FloorRise agePossession Flooring  \\\n",
       "0        3  North-East        1  Mid-Rise      UndConst  Ceramic   \n",
       "\n",
       "  GatedCommunity     Furnishing  CoveredParking  OpenParking  24*7 Water  \\\n",
       "0            Yes  Semifurnished               2            1           1   \n",
       "\n",
       "   MuniCorp Water  Borewell/Tank PowerBackup Facilities Categories  \n",
       "0               0              0        Full               Premium  "
      ]
     },
     "execution_count": 24,
     "metadata": {},
     "output_type": "execute_result"
    }
   ],
   "source": [
    "one_df"
   ]
  },
  {
   "cell_type": "code",
   "execution_count": 25,
   "id": "a213df74-7823-4ccc-b8c9-ebf21d92b0db",
   "metadata": {},
   "outputs": [
    {
     "name": "stdout",
     "output_type": "stream",
     "text": [
      "House Price is in Between 1.12 Cr to 1.32 Cr, With Average Price of 1.22 Cr\n"
     ]
    }
   ],
   "source": [
    "pred = np.expm1(model.predict(one_df))[0]\n",
    "print(f\"House Price is in Between {round((pred - 0.1),2)} Cr to {round((pred + 0.1),2)} Cr, With Average Price of {round(pred,2)} Cr\")"
   ]
  },
  {
   "cell_type": "markdown",
   "id": "5c709b21-663d-4106-86fb-06e0c552e2fd",
   "metadata": {},
   "source": [
    "### HyperParameter Tuning"
   ]
  },
  {
   "cell_type": "code",
   "execution_count": 26,
   "id": "1a12732f-18e5-4cc0-89e5-d7e41e6ad7b8",
   "metadata": {},
   "outputs": [],
   "source": [
    "model = Pipeline(\n",
    "    [('encoding',transformer),\n",
    "    ('scaler',StandardScaler()),\n",
    "    ('cat_boost',CatBoostRegressor(verbose = False,depth = 7,iterations = 1100,learning_rate = 0.0625))]    \n",
    ")\n",
    "\n",
    "kf = KFold(n_splits=5, shuffle=True, random_state=42)\n",
    "scoring = ['r2', 'neg_mean_absolute_error']"
   ]
  },
  {
   "cell_type": "code",
   "execution_count": 27,
   "id": "73dc5263-f2a4-4671-a297-634ed48d4be3",
   "metadata": {},
   "outputs": [
    {
     "name": "stdout",
     "output_type": "stream",
     "text": [
      "R2: 0.9624 ± 0.0020\n",
      "MAE: 0.0927 ± 0.0011\n"
     ]
    }
   ],
   "source": [
    "## CatBoostRegressor\n",
    "cat_scores = cross_validate(model, X, y, cv=kf, scoring=scoring,return_train_score = True)\n",
    "print(f\"R2: {np.mean(cat_scores['test_r2']):.4f} ± {np.std(cat_scores['test_r2']):.4f}\")\n",
    "print(f\"MAE: {np.expm1(-np.mean(cat_scores['test_neg_mean_absolute_error'])):.4f} ± {np.expm1(np.std(cat_scores['test_neg_mean_absolute_error'])):.4f}\")"
   ]
  },
  {
   "cell_type": "code",
   "execution_count": 28,
   "id": "83f31f09-5252-45e4-bdca-9c01e3830552",
   "metadata": {},
   "outputs": [
    {
     "data": {
      "text/html": [
       "<style>#sk-container-id-2 {color: black;}#sk-container-id-2 pre{padding: 0;}#sk-container-id-2 div.sk-toggleable {background-color: white;}#sk-container-id-2 label.sk-toggleable__label {cursor: pointer;display: block;width: 100%;margin-bottom: 0;padding: 0.3em;box-sizing: border-box;text-align: center;}#sk-container-id-2 label.sk-toggleable__label-arrow:before {content: \"▸\";float: left;margin-right: 0.25em;color: #696969;}#sk-container-id-2 label.sk-toggleable__label-arrow:hover:before {color: black;}#sk-container-id-2 div.sk-estimator:hover label.sk-toggleable__label-arrow:before {color: black;}#sk-container-id-2 div.sk-toggleable__content {max-height: 0;max-width: 0;overflow: hidden;text-align: left;background-color: #f0f8ff;}#sk-container-id-2 div.sk-toggleable__content pre {margin: 0.2em;color: black;border-radius: 0.25em;background-color: #f0f8ff;}#sk-container-id-2 input.sk-toggleable__control:checked~div.sk-toggleable__content {max-height: 200px;max-width: 100%;overflow: auto;}#sk-container-id-2 input.sk-toggleable__control:checked~label.sk-toggleable__label-arrow:before {content: \"▾\";}#sk-container-id-2 div.sk-estimator input.sk-toggleable__control:checked~label.sk-toggleable__label {background-color: #d4ebff;}#sk-container-id-2 div.sk-label input.sk-toggleable__control:checked~label.sk-toggleable__label {background-color: #d4ebff;}#sk-container-id-2 input.sk-hidden--visually {border: 0;clip: rect(1px 1px 1px 1px);clip: rect(1px, 1px, 1px, 1px);height: 1px;margin: -1px;overflow: hidden;padding: 0;position: absolute;width: 1px;}#sk-container-id-2 div.sk-estimator {font-family: monospace;background-color: #f0f8ff;border: 1px dotted black;border-radius: 0.25em;box-sizing: border-box;margin-bottom: 0.5em;}#sk-container-id-2 div.sk-estimator:hover {background-color: #d4ebff;}#sk-container-id-2 div.sk-parallel-item::after {content: \"\";width: 100%;border-bottom: 1px solid gray;flex-grow: 1;}#sk-container-id-2 div.sk-label:hover label.sk-toggleable__label {background-color: #d4ebff;}#sk-container-id-2 div.sk-serial::before {content: \"\";position: absolute;border-left: 1px solid gray;box-sizing: border-box;top: 0;bottom: 0;left: 50%;z-index: 0;}#sk-container-id-2 div.sk-serial {display: flex;flex-direction: column;align-items: center;background-color: white;padding-right: 0.2em;padding-left: 0.2em;position: relative;}#sk-container-id-2 div.sk-item {position: relative;z-index: 1;}#sk-container-id-2 div.sk-parallel {display: flex;align-items: stretch;justify-content: center;background-color: white;position: relative;}#sk-container-id-2 div.sk-item::before, #sk-container-id-2 div.sk-parallel-item::before {content: \"\";position: absolute;border-left: 1px solid gray;box-sizing: border-box;top: 0;bottom: 0;left: 50%;z-index: -1;}#sk-container-id-2 div.sk-parallel-item {display: flex;flex-direction: column;z-index: 1;position: relative;background-color: white;}#sk-container-id-2 div.sk-parallel-item:first-child::after {align-self: flex-end;width: 50%;}#sk-container-id-2 div.sk-parallel-item:last-child::after {align-self: flex-start;width: 50%;}#sk-container-id-2 div.sk-parallel-item:only-child::after {width: 0;}#sk-container-id-2 div.sk-dashed-wrapped {border: 1px dashed gray;margin: 0 0.4em 0.5em 0.4em;box-sizing: border-box;padding-bottom: 0.4em;background-color: white;}#sk-container-id-2 div.sk-label label {font-family: monospace;font-weight: bold;display: inline-block;line-height: 1.2em;}#sk-container-id-2 div.sk-label-container {text-align: center;}#sk-container-id-2 div.sk-container {/* jupyter's `normalize.less` sets `[hidden] { display: none; }` but bootstrap.min.css set `[hidden] { display: none !important; }` so we also need the `!important` here to be able to override the default hidden behavior on the sphinx rendered scikit-learn.org. See: https://github.com/scikit-learn/scikit-learn/issues/21755 */display: inline-block !important;position: relative;}#sk-container-id-2 div.sk-text-repr-fallback {display: none;}</style><div id=\"sk-container-id-2\" class=\"sk-top-container\"><div class=\"sk-text-repr-fallback\"><pre>Pipeline(steps=[(&#x27;encoding&#x27;,\n",
       "                 ColumnTransformer(remainder=&#x27;passthrough&#x27;,\n",
       "                                   transformers=[(&#x27;order_cols&#x27;,\n",
       "                                                  OrdinalEncoder(categories=[[&#x27;Old&#x27;,\n",
       "                                                                              &#x27;ModOld&#x27;,\n",
       "                                                                              &#x27;RelNew&#x27;,\n",
       "                                                                              &#x27;New&#x27;,\n",
       "                                                                              &#x27;UndConst&#x27;],\n",
       "                                                                             [&#x27;Unfurnished&#x27;,\n",
       "                                                                              &#x27;Semifurnished&#x27;,\n",
       "                                                                              &#x27;Furnished&#x27;],\n",
       "                                                                             [&#x27;No&#x27;,\n",
       "                                                                              &#x27;Partial&#x27;,\n",
       "                                                                              &#x27;Full&#x27;],\n",
       "                                                                             [&#x27;Basic&#x27;,\n",
       "                                                                              &#x27;Standard&#x27;,\n",
       "                                                                              &#x27;Premium&#x27;,\n",
       "                                                                              &#x27;Luxurious&#x27;]]),\n",
       "                                                  [&#x27;agePossession&#x27;,\n",
       "                                                   &#x27;Furnishing&#x27;, &#x27;PowerBackup&#x27;,\n",
       "                                                   &#x27;Facilities Categories&#x27;]),\n",
       "                                                 (&#x27;no_order_cols&#x27;,\n",
       "                                                  OrdinalEncoder(handle_unknown=&#x27;use_encoded_value&#x27;,\n",
       "                                                                 unknown_value=-1),\n",
       "                                                  [&#x27;property_type&#x27;, &#x27;Sector&#x27;,\n",
       "                                                   &#x27;City&#x27;, &#x27;facing&#x27;,\n",
       "                                                   &#x27;FloorRise&#x27;, &#x27;Flooring&#x27;,\n",
       "                                                   &#x27;GatedCommunity&#x27;])])),\n",
       "                (&#x27;scaler&#x27;, StandardScaler()),\n",
       "                (&#x27;cat_boost&#x27;,\n",
       "                 &lt;catboost.core.CatBoostRegressor object at 0x0000018EABC5F8E0&gt;)])</pre><b>In a Jupyter environment, please rerun this cell to show the HTML representation or trust the notebook. <br />On GitHub, the HTML representation is unable to render, please try loading this page with nbviewer.org.</b></div><div class=\"sk-container\" hidden><div class=\"sk-item sk-dashed-wrapped\"><div class=\"sk-label-container\"><div class=\"sk-label sk-toggleable\"><input class=\"sk-toggleable__control sk-hidden--visually\" id=\"sk-estimator-id-11\" type=\"checkbox\" ><label for=\"sk-estimator-id-11\" class=\"sk-toggleable__label sk-toggleable__label-arrow\">Pipeline</label><div class=\"sk-toggleable__content\"><pre>Pipeline(steps=[(&#x27;encoding&#x27;,\n",
       "                 ColumnTransformer(remainder=&#x27;passthrough&#x27;,\n",
       "                                   transformers=[(&#x27;order_cols&#x27;,\n",
       "                                                  OrdinalEncoder(categories=[[&#x27;Old&#x27;,\n",
       "                                                                              &#x27;ModOld&#x27;,\n",
       "                                                                              &#x27;RelNew&#x27;,\n",
       "                                                                              &#x27;New&#x27;,\n",
       "                                                                              &#x27;UndConst&#x27;],\n",
       "                                                                             [&#x27;Unfurnished&#x27;,\n",
       "                                                                              &#x27;Semifurnished&#x27;,\n",
       "                                                                              &#x27;Furnished&#x27;],\n",
       "                                                                             [&#x27;No&#x27;,\n",
       "                                                                              &#x27;Partial&#x27;,\n",
       "                                                                              &#x27;Full&#x27;],\n",
       "                                                                             [&#x27;Basic&#x27;,\n",
       "                                                                              &#x27;Standard&#x27;,\n",
       "                                                                              &#x27;Premium&#x27;,\n",
       "                                                                              &#x27;Luxurious&#x27;]]),\n",
       "                                                  [&#x27;agePossession&#x27;,\n",
       "                                                   &#x27;Furnishing&#x27;, &#x27;PowerBackup&#x27;,\n",
       "                                                   &#x27;Facilities Categories&#x27;]),\n",
       "                                                 (&#x27;no_order_cols&#x27;,\n",
       "                                                  OrdinalEncoder(handle_unknown=&#x27;use_encoded_value&#x27;,\n",
       "                                                                 unknown_value=-1),\n",
       "                                                  [&#x27;property_type&#x27;, &#x27;Sector&#x27;,\n",
       "                                                   &#x27;City&#x27;, &#x27;facing&#x27;,\n",
       "                                                   &#x27;FloorRise&#x27;, &#x27;Flooring&#x27;,\n",
       "                                                   &#x27;GatedCommunity&#x27;])])),\n",
       "                (&#x27;scaler&#x27;, StandardScaler()),\n",
       "                (&#x27;cat_boost&#x27;,\n",
       "                 &lt;catboost.core.CatBoostRegressor object at 0x0000018EABC5F8E0&gt;)])</pre></div></div></div><div class=\"sk-serial\"><div class=\"sk-item sk-dashed-wrapped\"><div class=\"sk-label-container\"><div class=\"sk-label sk-toggleable\"><input class=\"sk-toggleable__control sk-hidden--visually\" id=\"sk-estimator-id-12\" type=\"checkbox\" ><label for=\"sk-estimator-id-12\" class=\"sk-toggleable__label sk-toggleable__label-arrow\">encoding: ColumnTransformer</label><div class=\"sk-toggleable__content\"><pre>ColumnTransformer(remainder=&#x27;passthrough&#x27;,\n",
       "                  transformers=[(&#x27;order_cols&#x27;,\n",
       "                                 OrdinalEncoder(categories=[[&#x27;Old&#x27;, &#x27;ModOld&#x27;,\n",
       "                                                             &#x27;RelNew&#x27;, &#x27;New&#x27;,\n",
       "                                                             &#x27;UndConst&#x27;],\n",
       "                                                            [&#x27;Unfurnished&#x27;,\n",
       "                                                             &#x27;Semifurnished&#x27;,\n",
       "                                                             &#x27;Furnished&#x27;],\n",
       "                                                            [&#x27;No&#x27;, &#x27;Partial&#x27;,\n",
       "                                                             &#x27;Full&#x27;],\n",
       "                                                            [&#x27;Basic&#x27;,\n",
       "                                                             &#x27;Standard&#x27;,\n",
       "                                                             &#x27;Premium&#x27;,\n",
       "                                                             &#x27;Luxurious&#x27;]]),\n",
       "                                 [&#x27;agePossession&#x27;, &#x27;Furnishing&#x27;, &#x27;PowerBackup&#x27;,\n",
       "                                  &#x27;Facilities Categories&#x27;]),\n",
       "                                (&#x27;no_order_cols&#x27;,\n",
       "                                 OrdinalEncoder(handle_unknown=&#x27;use_encoded_value&#x27;,\n",
       "                                                unknown_value=-1),\n",
       "                                 [&#x27;property_type&#x27;, &#x27;Sector&#x27;, &#x27;City&#x27;, &#x27;facing&#x27;,\n",
       "                                  &#x27;FloorRise&#x27;, &#x27;Flooring&#x27;, &#x27;GatedCommunity&#x27;])])</pre></div></div></div><div class=\"sk-parallel\"><div class=\"sk-parallel-item\"><div class=\"sk-item\"><div class=\"sk-label-container\"><div class=\"sk-label sk-toggleable\"><input class=\"sk-toggleable__control sk-hidden--visually\" id=\"sk-estimator-id-13\" type=\"checkbox\" ><label for=\"sk-estimator-id-13\" class=\"sk-toggleable__label sk-toggleable__label-arrow\">order_cols</label><div class=\"sk-toggleable__content\"><pre>[&#x27;agePossession&#x27;, &#x27;Furnishing&#x27;, &#x27;PowerBackup&#x27;, &#x27;Facilities Categories&#x27;]</pre></div></div></div><div class=\"sk-serial\"><div class=\"sk-item\"><div class=\"sk-estimator sk-toggleable\"><input class=\"sk-toggleable__control sk-hidden--visually\" id=\"sk-estimator-id-14\" type=\"checkbox\" ><label for=\"sk-estimator-id-14\" class=\"sk-toggleable__label sk-toggleable__label-arrow\">OrdinalEncoder</label><div class=\"sk-toggleable__content\"><pre>OrdinalEncoder(categories=[[&#x27;Old&#x27;, &#x27;ModOld&#x27;, &#x27;RelNew&#x27;, &#x27;New&#x27;, &#x27;UndConst&#x27;],\n",
       "                           [&#x27;Unfurnished&#x27;, &#x27;Semifurnished&#x27;, &#x27;Furnished&#x27;],\n",
       "                           [&#x27;No&#x27;, &#x27;Partial&#x27;, &#x27;Full&#x27;],\n",
       "                           [&#x27;Basic&#x27;, &#x27;Standard&#x27;, &#x27;Premium&#x27;, &#x27;Luxurious&#x27;]])</pre></div></div></div></div></div></div><div class=\"sk-parallel-item\"><div class=\"sk-item\"><div class=\"sk-label-container\"><div class=\"sk-label sk-toggleable\"><input class=\"sk-toggleable__control sk-hidden--visually\" id=\"sk-estimator-id-15\" type=\"checkbox\" ><label for=\"sk-estimator-id-15\" class=\"sk-toggleable__label sk-toggleable__label-arrow\">no_order_cols</label><div class=\"sk-toggleable__content\"><pre>[&#x27;property_type&#x27;, &#x27;Sector&#x27;, &#x27;City&#x27;, &#x27;facing&#x27;, &#x27;FloorRise&#x27;, &#x27;Flooring&#x27;, &#x27;GatedCommunity&#x27;]</pre></div></div></div><div class=\"sk-serial\"><div class=\"sk-item\"><div class=\"sk-estimator sk-toggleable\"><input class=\"sk-toggleable__control sk-hidden--visually\" id=\"sk-estimator-id-16\" type=\"checkbox\" ><label for=\"sk-estimator-id-16\" class=\"sk-toggleable__label sk-toggleable__label-arrow\">OrdinalEncoder</label><div class=\"sk-toggleable__content\"><pre>OrdinalEncoder(handle_unknown=&#x27;use_encoded_value&#x27;, unknown_value=-1)</pre></div></div></div></div></div></div><div class=\"sk-parallel-item\"><div class=\"sk-item\"><div class=\"sk-label-container\"><div class=\"sk-label sk-toggleable\"><input class=\"sk-toggleable__control sk-hidden--visually\" id=\"sk-estimator-id-17\" type=\"checkbox\" ><label for=\"sk-estimator-id-17\" class=\"sk-toggleable__label sk-toggleable__label-arrow\">remainder</label><div class=\"sk-toggleable__content\"><pre>[&#x27;Area&#x27;, &#x27;bedRoom&#x27;, &#x27;bathroom&#x27;, &#x27;balcony&#x27;, &#x27;FloorNo&#x27;, &#x27;CoveredParking&#x27;, &#x27;OpenParking&#x27;, &#x27;24*7 Water&#x27;, &#x27;MuniCorp Water&#x27;, &#x27;Borewell/Tank&#x27;]</pre></div></div></div><div class=\"sk-serial\"><div class=\"sk-item\"><div class=\"sk-estimator sk-toggleable\"><input class=\"sk-toggleable__control sk-hidden--visually\" id=\"sk-estimator-id-18\" type=\"checkbox\" ><label for=\"sk-estimator-id-18\" class=\"sk-toggleable__label sk-toggleable__label-arrow\">passthrough</label><div class=\"sk-toggleable__content\"><pre>passthrough</pre></div></div></div></div></div></div></div></div><div class=\"sk-item\"><div class=\"sk-estimator sk-toggleable\"><input class=\"sk-toggleable__control sk-hidden--visually\" id=\"sk-estimator-id-19\" type=\"checkbox\" ><label for=\"sk-estimator-id-19\" class=\"sk-toggleable__label sk-toggleable__label-arrow\">StandardScaler</label><div class=\"sk-toggleable__content\"><pre>StandardScaler()</pre></div></div></div><div class=\"sk-item\"><div class=\"sk-estimator sk-toggleable\"><input class=\"sk-toggleable__control sk-hidden--visually\" id=\"sk-estimator-id-20\" type=\"checkbox\" ><label for=\"sk-estimator-id-20\" class=\"sk-toggleable__label sk-toggleable__label-arrow\">CatBoostRegressor</label><div class=\"sk-toggleable__content\"><pre>&lt;catboost.core.CatBoostRegressor object at 0x0000018EABC5F8E0&gt;</pre></div></div></div></div></div></div></div>"
      ],
      "text/plain": [
       "Pipeline(steps=[('encoding',\n",
       "                 ColumnTransformer(remainder='passthrough',\n",
       "                                   transformers=[('order_cols',\n",
       "                                                  OrdinalEncoder(categories=[['Old',\n",
       "                                                                              'ModOld',\n",
       "                                                                              'RelNew',\n",
       "                                                                              'New',\n",
       "                                                                              'UndConst'],\n",
       "                                                                             ['Unfurnished',\n",
       "                                                                              'Semifurnished',\n",
       "                                                                              'Furnished'],\n",
       "                                                                             ['No',\n",
       "                                                                              'Partial',\n",
       "                                                                              'Full'],\n",
       "                                                                             ['Basic',\n",
       "                                                                              'Standard',\n",
       "                                                                              'Premium',\n",
       "                                                                              'Luxurious']]),\n",
       "                                                  ['agePossession',\n",
       "                                                   'Furnishing', 'PowerBackup',\n",
       "                                                   'Facilities Categories']),\n",
       "                                                 ('no_order_cols',\n",
       "                                                  OrdinalEncoder(handle_unknown='use_encoded_value',\n",
       "                                                                 unknown_value=-1),\n",
       "                                                  ['property_type', 'Sector',\n",
       "                                                   'City', 'facing',\n",
       "                                                   'FloorRise', 'Flooring',\n",
       "                                                   'GatedCommunity'])])),\n",
       "                ('scaler', StandardScaler()),\n",
       "                ('cat_boost',\n",
       "                 <catboost.core.CatBoostRegressor object at 0x0000018EABC5F8E0>)])"
      ]
     },
     "execution_count": 28,
     "metadata": {},
     "output_type": "execute_result"
    }
   ],
   "source": [
    "model.fit(X,y)"
   ]
  },
  {
   "cell_type": "code",
   "execution_count": 29,
   "id": "6d7cb276-7c40-43bc-bb99-1253261937ec",
   "metadata": {},
   "outputs": [
    {
     "name": "stdout",
     "output_type": "stream",
     "text": [
      "House Price is in Between 1.14 Cr to 1.34 Cr, With Average Price of 1.24 Cr\n"
     ]
    }
   ],
   "source": [
    "pred = np.expm1(model.predict(one_df))[0]\n",
    "print(f\"House Price is in Between {round((pred - 0.1),2)} Cr to {round((pred + 0.1),2)} Cr, With Average Price of {round(pred,2)} Cr\")"
   ]
  },
  {
   "cell_type": "markdown",
   "id": "43f8d070-ee59-4696-8095-f987d296e8d1",
   "metadata": {},
   "source": [
    "### Pickle Data and model"
   ]
  },
  {
   "cell_type": "code",
   "execution_count": 32,
   "id": "79c7e755-05c0-4e14-ab78-4370e75c6317",
   "metadata": {},
   "outputs": [],
   "source": [
    "with open('model_pipeline.pkl','wb') as file:\n",
    "    pickle.dump(model,file)"
   ]
  },
  {
   "cell_type": "code",
   "execution_count": 35,
   "id": "0eca753d-4927-44a4-ad8d-23526a2359d2",
   "metadata": {},
   "outputs": [],
   "source": [
    "with open('df.pkl','wb') as file:\n",
    "    pickle.dump(X,file)"
   ]
  },
  {
   "cell_type": "code",
   "execution_count": 36,
   "id": "840200f3-265f-4752-86ba-76fae26d831b",
   "metadata": {},
   "outputs": [],
   "source": [
    "with open('transformer.pkl','wb') as file:\n",
    "    pickle.dump(transformer,file)"
   ]
  },
  {
   "cell_type": "markdown",
   "id": "71322952-9c56-4855-a308-347e62b30bcf",
   "metadata": {},
   "source": [
    "### Requirements"
   ]
  },
  {
   "cell_type": "code",
   "execution_count": 39,
   "id": "481a097f-e2a9-48ae-a9bc-4499937c5104",
   "metadata": {},
   "outputs": [
    {
     "data": {
      "text/plain": [
       "'1.26.3'"
      ]
     },
     "execution_count": 39,
     "metadata": {},
     "output_type": "execute_result"
    }
   ],
   "source": [
    "np.__version__"
   ]
  },
  {
   "cell_type": "code",
   "execution_count": 40,
   "id": "e8521a86-059f-44d4-9d64-41a4a94b491e",
   "metadata": {},
   "outputs": [
    {
     "data": {
      "text/plain": [
       "'2.1.4'"
      ]
     },
     "execution_count": 40,
     "metadata": {},
     "output_type": "execute_result"
    }
   ],
   "source": [
    "pd.__version__"
   ]
  },
  {
   "cell_type": "code",
   "execution_count": 43,
   "id": "a27588b8-e100-435c-bcdf-f6f617c78401",
   "metadata": {},
   "outputs": [
    {
     "data": {
      "text/plain": [
       "property_type\n",
       "Flat/Apartment    4901\n",
       "House/Villa       3226\n",
       "Builder Floor      286\n",
       "Name: count, dtype: int64"
      ]
     },
     "execution_count": 43,
     "metadata": {},
     "output_type": "execute_result"
    }
   ],
   "source": [
    "df['property_type'].value_counts()"
   ]
  },
  {
   "cell_type": "code",
   "execution_count": 44,
   "id": "32c7fd96-e196-472a-a30f-4cb80cc8d9a3",
   "metadata": {},
   "outputs": [
    {
     "data": {
      "text/plain": [
       "City\n",
       "Mohali        5781\n",
       "Chandigarh    1382\n",
       "Panchkula     1250\n",
       "Name: count, dtype: int64"
      ]
     },
     "execution_count": 44,
     "metadata": {},
     "output_type": "execute_result"
    }
   ],
   "source": [
    "df['City'].value_counts()"
   ]
  },
  {
   "cell_type": "code",
   "execution_count": 48,
   "id": "7fba4a63-90e8-40d6-899a-e25346341ffd",
   "metadata": {
    "scrolled": true
   },
   "outputs": [
    {
     "data": {
      "text/plain": [
       "Index(['Zirakpur', 'Kharar', 'Sector 66 Mohali', 'Mullanpur', 'Aerocity',\n",
       "       'Sector 88 Mohali', 'Sector 127 Mohali', 'Sector 115 Mohali',\n",
       "       'New Chandigarh', 'Sector 91 Mohali', 'Sector 125 Mohali',\n",
       "       'Sector 82 Mohali', 'Sector 126 Mohali', 'Dera Bassi',\n",
       "       'Sector 117 Mohali', 'Phase 3 Mohali', 'Sector 85 Mohali',\n",
       "       'Sector 99 Mohali', 'Sector 71 Mohali', 'Sector 70 Mohali',\n",
       "       'Sector 79 Mohali', 'Sector 105 Mohali', 'Phase 7 Mohali',\n",
       "       'Sector 116 Mohali', 'Dhakoli', 'Sector 80 Mohali', 'Phase 9 Mohali',\n",
       "       'Sector 89 Mohali', 'Sector 69 Mohali', 'Sector 110 Mohali',\n",
       "       'Phase 10 Mohali', 'Sector 65 Mohali', 'Sector 74 Mohali',\n",
       "       'Sector 77 Mohali', 'Phase 4 Mohali', 'Sector 124 Mohali',\n",
       "       'Sector 68 Mohali', 'Phase 11 Mohali', 'Sector 78 Mohali',\n",
       "       'Sector 114 Mohali', 'Sector 67 Mohali', 'Sector 109 Mohali',\n",
       "       'Sector 113 Mohali', 'Sector 121 Mohali', 'Phase 5 Mohali',\n",
       "       'Sector 90 Mohali', 'Mohali', 'Sector 108 Mohali', 'Sector 104 Mohali',\n",
       "       'Kharar Landran Road', 'Phase 1 Mohali', 'Sector 83 Mohali',\n",
       "       'Phase 2 Mohali', 'Sector 86 Mohali', 'Phase 6 Mohali',\n",
       "       'Sector 97 Mohali', 'Sector 92 Mohali', 'Sector 64 Mohali',\n",
       "       'Sector 94 Mohali', 'Bhago Majra', 'Kishanpura', 'Shivalik City',\n",
       "       'Sector 60 Mohali', 'Sector 120 Mohali', 'Sector 61 Mohali',\n",
       "       'Sector 118 Mohali', 'Sector 111 Mohali', 'Sector 106 Mohali',\n",
       "       'Sector 59 Mohali', 'Airport Road', 'Kurali', 'Sector 57 Mohali',\n",
       "       'Sector 76 Mohali', 'Sector 63 Mohali'],\n",
       "      dtype='object', name='Sector')"
      ]
     },
     "execution_count": 48,
     "metadata": {},
     "output_type": "execute_result"
    }
   ],
   "source": [
    "df[df['City'] == 'Mohali']['Sector'].value_counts().index"
   ]
  },
  {
   "cell_type": "code",
   "execution_count": 56,
   "id": "e4dc2a82-b5ea-4f2f-8deb-bc489d74447a",
   "metadata": {},
   "outputs": [
    {
     "data": {
      "text/plain": [
       "numpy.int64"
      ]
     },
     "execution_count": 56,
     "metadata": {},
     "output_type": "execute_result"
    }
   ],
   "source": [
    "type(sorted(df['bedRoom'].unique())[0])"
   ]
  },
  {
   "cell_type": "code",
   "execution_count": 51,
   "id": "00dae84d-60ee-49ad-b6a7-958bd7b8e3d6",
   "metadata": {},
   "outputs": [
    {
     "data": {
      "text/plain": [
       "[1, 2, 3, 4, 5, 6, 7, 8, 9, 10, 11, 12]"
      ]
     },
     "execution_count": 51,
     "metadata": {},
     "output_type": "execute_result"
    }
   ],
   "source": [
    "sorted(df['bathroom'].unique())"
   ]
  },
  {
   "cell_type": "code",
   "execution_count": 57,
   "id": "12af576d-30d1-45a5-9399-92810b34acff",
   "metadata": {},
   "outputs": [
    {
     "data": {
      "text/plain": [
       "['East',\n",
       " 'North',\n",
       " 'North-East',\n",
       " 'North-West',\n",
       " 'South',\n",
       " 'South-East',\n",
       " 'South-West',\n",
       " 'West']"
      ]
     },
     "execution_count": 57,
     "metadata": {},
     "output_type": "execute_result"
    }
   ],
   "source": [
    "sorted(df['facing'].unique())"
   ]
  },
  {
   "cell_type": "code",
   "execution_count": 63,
   "id": "7f3b6670-a235-4b68-abee-e1565f3ba84f",
   "metadata": {
    "scrolled": true
   },
   "outputs": [
    {
     "data": {
      "text/plain": [
       "Index(['Vitrified', 'Marble', 'Ceramic', 'Granite', 'Wood', 'Mosaic', 'Others',\n",
       "       'Concrete', 'Stone', 'Cement', 'Polished concrete', 'Vinyl', 'Spartex',\n",
       "       'IPSFinish'],\n",
       "      dtype='object', name='Flooring')"
      ]
     },
     "execution_count": 63,
     "metadata": {},
     "output_type": "execute_result"
    }
   ],
   "source": [
    "df['Flooring'].value_counts().index"
   ]
  },
  {
   "cell_type": "code",
   "execution_count": null,
   "id": "5930b108-3e0d-4f2b-a6b9-6b223160c13c",
   "metadata": {},
   "outputs": [],
   "source": []
  }
 ],
 "metadata": {
  "kernelspec": {
   "display_name": "Python 3 (ipykernel)",
   "language": "python",
   "name": "python3"
  },
  "language_info": {
   "codemirror_mode": {
    "name": "ipython",
    "version": 3
   },
   "file_extension": ".py",
   "mimetype": "text/x-python",
   "name": "python",
   "nbconvert_exporter": "python",
   "pygments_lexer": "ipython3",
   "version": "3.10.13"
  }
 },
 "nbformat": 4,
 "nbformat_minor": 5
}

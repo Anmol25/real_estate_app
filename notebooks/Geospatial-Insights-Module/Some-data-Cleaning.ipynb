{
 "cells": [
  {
   "cell_type": "code",
   "execution_count": 35,
   "id": "b88e0be1-8b10-4e54-bfba-3aaac563772d",
   "metadata": {},
   "outputs": [],
   "source": [
    "import numpy as np\n",
    "import pandas as pd"
   ]
  },
  {
   "cell_type": "code",
   "execution_count": 36,
   "id": "4c0c1d51-865a-4385-bb65-561c13730a61",
   "metadata": {},
   "outputs": [
    {
     "data": {
      "text/html": [
       "<div>\n",
       "<style scoped>\n",
       "    .dataframe tbody tr th:only-of-type {\n",
       "        vertical-align: middle;\n",
       "    }\n",
       "\n",
       "    .dataframe tbody tr th {\n",
       "        vertical-align: top;\n",
       "    }\n",
       "\n",
       "    .dataframe thead th {\n",
       "        text-align: right;\n",
       "    }\n",
       "</style>\n",
       "<table border=\"1\" class=\"dataframe\">\n",
       "  <thead>\n",
       "    <tr style=\"text-align: right;\">\n",
       "      <th></th>\n",
       "      <th>property_type</th>\n",
       "      <th>Sector</th>\n",
       "      <th>City</th>\n",
       "      <th>Area</th>\n",
       "      <th>bedRoom</th>\n",
       "      <th>bathroom</th>\n",
       "      <th>balcony</th>\n",
       "      <th>Pooja Room</th>\n",
       "      <th>Servant Room</th>\n",
       "      <th>Store Room</th>\n",
       "      <th>...</th>\n",
       "      <th>CoveredParking</th>\n",
       "      <th>OpenParking</th>\n",
       "      <th>24*7 Water</th>\n",
       "      <th>MuniCorp Water</th>\n",
       "      <th>Borewell/Tank</th>\n",
       "      <th>PowerBackup</th>\n",
       "      <th>WheelChairFriendly</th>\n",
       "      <th>PetFriendly</th>\n",
       "      <th>Facilities Categories</th>\n",
       "      <th>price</th>\n",
       "    </tr>\n",
       "  </thead>\n",
       "  <tbody>\n",
       "    <tr>\n",
       "      <th>0</th>\n",
       "      <td>House/Villa</td>\n",
       "      <td>Sector 15 Chandigarh</td>\n",
       "      <td>Chandigarh</td>\n",
       "      <td>18000.0</td>\n",
       "      <td>7</td>\n",
       "      <td>7</td>\n",
       "      <td>4</td>\n",
       "      <td>0</td>\n",
       "      <td>1</td>\n",
       "      <td>0</td>\n",
       "      <td>...</td>\n",
       "      <td>3</td>\n",
       "      <td>3</td>\n",
       "      <td>1</td>\n",
       "      <td>1</td>\n",
       "      <td>0</td>\n",
       "      <td>No</td>\n",
       "      <td>Yes</td>\n",
       "      <td>Yes</td>\n",
       "      <td>Standard</td>\n",
       "      <td>28.000</td>\n",
       "    </tr>\n",
       "    <tr>\n",
       "      <th>1</th>\n",
       "      <td>House/Villa</td>\n",
       "      <td>Sector 11 Chandigarh</td>\n",
       "      <td>Chandigarh</td>\n",
       "      <td>4500.0</td>\n",
       "      <td>3</td>\n",
       "      <td>3</td>\n",
       "      <td>2</td>\n",
       "      <td>0</td>\n",
       "      <td>1</td>\n",
       "      <td>0</td>\n",
       "      <td>...</td>\n",
       "      <td>1</td>\n",
       "      <td>1</td>\n",
       "      <td>0</td>\n",
       "      <td>1</td>\n",
       "      <td>0</td>\n",
       "      <td>No</td>\n",
       "      <td>Yes</td>\n",
       "      <td>No</td>\n",
       "      <td>Basic</td>\n",
       "      <td>14.000</td>\n",
       "    </tr>\n",
       "    <tr>\n",
       "      <th>2</th>\n",
       "      <td>House/Villa</td>\n",
       "      <td>Mohali</td>\n",
       "      <td>Mohali</td>\n",
       "      <td>3600.0</td>\n",
       "      <td>6</td>\n",
       "      <td>6</td>\n",
       "      <td>2</td>\n",
       "      <td>0</td>\n",
       "      <td>0</td>\n",
       "      <td>0</td>\n",
       "      <td>...</td>\n",
       "      <td>0</td>\n",
       "      <td>0</td>\n",
       "      <td>0</td>\n",
       "      <td>0</td>\n",
       "      <td>0</td>\n",
       "      <td>No</td>\n",
       "      <td>No</td>\n",
       "      <td>No</td>\n",
       "      <td>Basic</td>\n",
       "      <td>2.500</td>\n",
       "    </tr>\n",
       "    <tr>\n",
       "      <th>3</th>\n",
       "      <td>House/Villa</td>\n",
       "      <td>Dera Bassi</td>\n",
       "      <td>Mohali</td>\n",
       "      <td>1008.0</td>\n",
       "      <td>3</td>\n",
       "      <td>3</td>\n",
       "      <td>1</td>\n",
       "      <td>0</td>\n",
       "      <td>0</td>\n",
       "      <td>0</td>\n",
       "      <td>...</td>\n",
       "      <td>1</td>\n",
       "      <td>1</td>\n",
       "      <td>0</td>\n",
       "      <td>0</td>\n",
       "      <td>1</td>\n",
       "      <td>No</td>\n",
       "      <td>No</td>\n",
       "      <td>No</td>\n",
       "      <td>Basic</td>\n",
       "      <td>0.589</td>\n",
       "    </tr>\n",
       "    <tr>\n",
       "      <th>4</th>\n",
       "      <td>House/Villa</td>\n",
       "      <td>New Chandigarh</td>\n",
       "      <td>Mohali</td>\n",
       "      <td>2700.0</td>\n",
       "      <td>9</td>\n",
       "      <td>9</td>\n",
       "      <td>4</td>\n",
       "      <td>1</td>\n",
       "      <td>0</td>\n",
       "      <td>0</td>\n",
       "      <td>...</td>\n",
       "      <td>2</td>\n",
       "      <td>1</td>\n",
       "      <td>1</td>\n",
       "      <td>0</td>\n",
       "      <td>1</td>\n",
       "      <td>Partial</td>\n",
       "      <td>Yes</td>\n",
       "      <td>Yes</td>\n",
       "      <td>Standard</td>\n",
       "      <td>4.500</td>\n",
       "    </tr>\n",
       "  </tbody>\n",
       "</table>\n",
       "<p>5 rows × 34 columns</p>\n",
       "</div>"
      ],
      "text/plain": [
       "  property_type                Sector        City     Area  bedRoom  bathroom  \\\n",
       "0   House/Villa  Sector 15 Chandigarh  Chandigarh  18000.0        7         7   \n",
       "1   House/Villa  Sector 11 Chandigarh  Chandigarh   4500.0        3         3   \n",
       "2   House/Villa                Mohali      Mohali   3600.0        6         6   \n",
       "3   House/Villa            Dera Bassi      Mohali   1008.0        3         3   \n",
       "4   House/Villa        New Chandigarh      Mohali   2700.0        9         9   \n",
       "\n",
       "   balcony  Pooja Room  Servant Room  Store Room  ...  CoveredParking  \\\n",
       "0        4           0             1           0  ...               3   \n",
       "1        2           0             1           0  ...               1   \n",
       "2        2           0             0           0  ...               0   \n",
       "3        1           0             0           0  ...               1   \n",
       "4        4           1             0           0  ...               2   \n",
       "\n",
       "   OpenParking 24*7 Water  MuniCorp Water Borewell/Tank  PowerBackup  \\\n",
       "0            3          1               1             0           No   \n",
       "1            1          0               1             0           No   \n",
       "2            0          0               0             0           No   \n",
       "3            1          0               0             1           No   \n",
       "4            1          1               0             1      Partial   \n",
       "\n",
       "   WheelChairFriendly  PetFriendly  Facilities Categories   price  \n",
       "0                 Yes          Yes               Standard  28.000  \n",
       "1                 Yes           No                  Basic  14.000  \n",
       "2                  No           No                  Basic   2.500  \n",
       "3                  No           No                  Basic   0.589  \n",
       "4                 Yes          Yes               Standard   4.500  \n",
       "\n",
       "[5 rows x 34 columns]"
      ]
     },
     "execution_count": 36,
     "metadata": {},
     "output_type": "execute_result"
    }
   ],
   "source": [
    "df = pd.read_csv(\"data/predictor-data-final.csv\")\n",
    "df.head()"
   ]
  },
  {
   "cell_type": "markdown",
   "id": "1acd4458-207b-4488-82c4-2c1aa11c63bb",
   "metadata": {},
   "source": [
    "## Mohali"
   ]
  },
  {
   "cell_type": "code",
   "execution_count": 37,
   "id": "aa9dea59-895f-4cba-9b0f-f7d4c29be60c",
   "metadata": {},
   "outputs": [
    {
     "data": {
      "text/plain": [
       "65"
      ]
     },
     "execution_count": 37,
     "metadata": {},
     "output_type": "execute_result"
    }
   ],
   "source": [
    "# phase 3 -> sector 58 Mohali\n",
    "len(df[df['Sector'] == 'Phase 3 Mohali'])"
   ]
  },
  {
   "cell_type": "code",
   "execution_count": 38,
   "id": "e93addb2-21d7-4db6-8645-35bfb449df08",
   "metadata": {},
   "outputs": [],
   "source": [
    "df.replace(\"Phase 3 Mohali\",\"Sector 58 Mohali\",inplace=True)"
   ]
  },
  {
   "cell_type": "code",
   "execution_count": 39,
   "id": "1523e1f6-c626-4e44-9c0a-d38681593b9c",
   "metadata": {},
   "outputs": [
    {
     "data": {
      "text/plain": [
       "26"
      ]
     },
     "execution_count": 39,
     "metadata": {},
     "output_type": "execute_result"
    }
   ],
   "source": [
    "# Phase 5,4 -> Sector 59 Mohali\n",
    "len(df[df['Sector'] == 'Phase 4 Mohali'])"
   ]
  },
  {
   "cell_type": "code",
   "execution_count": 40,
   "id": "4e25d5dd-2aa0-402b-8a71-c1dc519701f9",
   "metadata": {},
   "outputs": [
    {
     "data": {
      "text/plain": [
       "17"
      ]
     },
     "execution_count": 40,
     "metadata": {},
     "output_type": "execute_result"
    }
   ],
   "source": [
    "len(df[df['Sector'] == 'Phase 5 Mohali'])"
   ]
  },
  {
   "cell_type": "code",
   "execution_count": 41,
   "id": "24b53d15-3b1f-4a87-808f-6d5e8cc0c1d2",
   "metadata": {},
   "outputs": [
    {
     "data": {
      "text/plain": [
       "3"
      ]
     },
     "execution_count": 41,
     "metadata": {},
     "output_type": "execute_result"
    }
   ],
   "source": [
    "len(df[df['Sector'] == 'Sector 59 Mohali'])"
   ]
  },
  {
   "cell_type": "code",
   "execution_count": 42,
   "id": "cb32eac9-2078-4485-9269-f675ce727b38",
   "metadata": {},
   "outputs": [],
   "source": [
    "df.replace(\"Phase 4 Mohali\",\"Sector 59 Mohali\",inplace=True)\n",
    "df.replace(\"Phase 5 Mohali\",\"Sector 59 Mohali\",inplace=True)"
   ]
  },
  {
   "cell_type": "code",
   "execution_count": 43,
   "id": "ef5370a1-3292-42f2-8d01-23f5cf1ff638",
   "metadata": {},
   "outputs": [
    {
     "data": {
      "text/plain": [
       "46"
      ]
     },
     "execution_count": 43,
     "metadata": {},
     "output_type": "execute_result"
    }
   ],
   "source": [
    "(df['Sector'] == 'Sector 59 Mohali').sum()"
   ]
  },
  {
   "cell_type": "code",
   "execution_count": null,
   "id": "5c88d68a-de41-4176-90d3-38e01da0cba4",
   "metadata": {},
   "outputs": [],
   "source": [
    "## Phase 7 -> Sector 61 Mohali"
   ]
  },
  {
   "cell_type": "code",
   "execution_count": 44,
   "id": "5a86e2ba-116c-44f7-8d3b-bfe148842777",
   "metadata": {},
   "outputs": [
    {
     "data": {
      "text/plain": [
       "58"
      ]
     },
     "execution_count": 44,
     "metadata": {},
     "output_type": "execute_result"
    }
   ],
   "source": [
    "(df['Sector'] == 'Phase 7 Mohali').sum()"
   ]
  },
  {
   "cell_type": "code",
   "execution_count": 45,
   "id": "ad62b087-46e2-4f0b-8931-4eac00c8c1d4",
   "metadata": {},
   "outputs": [
    {
     "data": {
      "text/plain": [
       "5"
      ]
     },
     "execution_count": 45,
     "metadata": {},
     "output_type": "execute_result"
    }
   ],
   "source": [
    "(df['Sector'] == 'Sector 61 Mohali').sum()"
   ]
  },
  {
   "cell_type": "code",
   "execution_count": 46,
   "id": "bf50f817-6bbf-43a3-a1a1-1eef4b0c056d",
   "metadata": {},
   "outputs": [],
   "source": [
    "df.replace(\"Phase 7 Mohali\",\"Sector 61 Mohali\",inplace=True)"
   ]
  },
  {
   "cell_type": "code",
   "execution_count": 47,
   "id": "4dfd86bd-b82c-417c-9f99-bffdca67cbd8",
   "metadata": {},
   "outputs": [],
   "source": [
    "# Phase 11 -> Sector 65 Mohali"
   ]
  },
  {
   "cell_type": "code",
   "execution_count": 48,
   "id": "ac549bf0-73a9-484b-ac17-45d30458571b",
   "metadata": {},
   "outputs": [
    {
     "data": {
      "text/plain": [
       "25"
      ]
     },
     "execution_count": 48,
     "metadata": {},
     "output_type": "execute_result"
    }
   ],
   "source": [
    "(df['Sector'] == 'Phase 11 Mohali').sum()"
   ]
  },
  {
   "cell_type": "code",
   "execution_count": 49,
   "id": "dfb3390d-36ab-484e-968a-98f700155140",
   "metadata": {},
   "outputs": [
    {
     "data": {
      "text/plain": [
       "30"
      ]
     },
     "execution_count": 49,
     "metadata": {},
     "output_type": "execute_result"
    }
   ],
   "source": [
    "(df['Sector'] == 'Sector 65 Mohali').sum()"
   ]
  },
  {
   "cell_type": "code",
   "execution_count": 50,
   "id": "bfa5d76c-b59f-4bf3-ba39-0cec911f5bfd",
   "metadata": {},
   "outputs": [],
   "source": [
    "df.replace(\"Phase 11 Mohali\",\"Sector 65 Mohali\",inplace=True)"
   ]
  },
  {
   "cell_type": "code",
   "execution_count": 51,
   "id": "e118db44-1984-485a-932b-693cb91a2735",
   "metadata": {},
   "outputs": [],
   "source": [
    "# Phase 10 -> Sector 64 Mohali"
   ]
  },
  {
   "cell_type": "code",
   "execution_count": 52,
   "id": "d00e909f-8bb5-451c-8c61-c2e6393358cb",
   "metadata": {},
   "outputs": [
    {
     "data": {
      "text/plain": [
       "33"
      ]
     },
     "execution_count": 52,
     "metadata": {},
     "output_type": "execute_result"
    }
   ],
   "source": [
    "(df['Sector'] == 'Phase 10 Mohali').sum()"
   ]
  },
  {
   "cell_type": "code",
   "execution_count": 53,
   "id": "9665ea15-6436-4c27-b898-265e25691283",
   "metadata": {},
   "outputs": [
    {
     "data": {
      "text/plain": [
       "7"
      ]
     },
     "execution_count": 53,
     "metadata": {},
     "output_type": "execute_result"
    }
   ],
   "source": [
    "(df['Sector'] == 'Sector 64 Mohali').sum()"
   ]
  },
  {
   "cell_type": "code",
   "execution_count": 54,
   "id": "798fc866-b422-4549-b6f9-9b10a665f005",
   "metadata": {},
   "outputs": [],
   "source": [
    "df.replace(\"Phase 10 Mohali\",\"Sector 64 Mohali\",inplace=True)"
   ]
  },
  {
   "cell_type": "code",
   "execution_count": 57,
   "id": "654bcb94-9777-48a3-84bc-185a7e33d88a",
   "metadata": {},
   "outputs": [],
   "source": [
    "# Phase 9 -> Sector 63 Mohali"
   ]
  },
  {
   "cell_type": "code",
   "execution_count": 55,
   "id": "c487440b-fdd8-416f-ade9-992a0ef2798c",
   "metadata": {},
   "outputs": [
    {
     "data": {
      "text/plain": [
       "48"
      ]
     },
     "execution_count": 55,
     "metadata": {},
     "output_type": "execute_result"
    }
   ],
   "source": [
    "(df['Sector'] == 'Phase 9 Mohali').sum()"
   ]
  },
  {
   "cell_type": "code",
   "execution_count": 56,
   "id": "92032b1c-c1c6-47ef-aef1-fe2f9c8922df",
   "metadata": {},
   "outputs": [
    {
     "data": {
      "text/plain": [
       "1"
      ]
     },
     "execution_count": 56,
     "metadata": {},
     "output_type": "execute_result"
    }
   ],
   "source": [
    "(df['Sector'] == 'Sector 63 Mohali').sum()"
   ]
  },
  {
   "cell_type": "code",
   "execution_count": 58,
   "id": "11aa9bb7-1022-4e88-9bf1-f11d13ba458f",
   "metadata": {},
   "outputs": [],
   "source": [
    "df.replace(\"Phase 9 Mohali\",\"Sector 63 Mohali\",inplace=True)"
   ]
  },
  {
   "cell_type": "code",
   "execution_count": null,
   "id": "7e512d67-9cb0-47c0-928a-0029577113c1",
   "metadata": {},
   "outputs": [],
   "source": [
    "# Sector 125 Mohali -> Kharar"
   ]
  },
  {
   "cell_type": "code",
   "execution_count": 60,
   "id": "01c13e4c-ecb0-40a9-93be-4f973c50fe31",
   "metadata": {},
   "outputs": [
    {
     "data": {
      "text/plain": [
       "133"
      ]
     },
     "execution_count": 60,
     "metadata": {},
     "output_type": "execute_result"
    }
   ],
   "source": [
    "(df['Sector'] == 'Sector 125 Mohali').sum()"
   ]
  },
  {
   "cell_type": "code",
   "execution_count": 61,
   "id": "9e119d57-2660-46ac-a9d3-c39ce9ecb4ec",
   "metadata": {},
   "outputs": [
    {
     "data": {
      "text/plain": [
       "496"
      ]
     },
     "execution_count": 61,
     "metadata": {},
     "output_type": "execute_result"
    }
   ],
   "source": [
    "(df['Sector'] == 'Kharar').sum()"
   ]
  },
  {
   "cell_type": "code",
   "execution_count": 62,
   "id": "cee94700-bfae-4ce2-8f29-710a436c1360",
   "metadata": {},
   "outputs": [],
   "source": [
    "df.replace(\"Sector 125 Mohali\",\"Kharar\",inplace=True)"
   ]
  },
  {
   "cell_type": "code",
   "execution_count": null,
   "id": "089136fd-d679-4de4-8acd-7690a10b9e27",
   "metadata": {},
   "outputs": [],
   "source": [
    "# Sector 124 Mohali -> Kharar"
   ]
  },
  {
   "cell_type": "code",
   "execution_count": 64,
   "id": "4cdc3c02-402b-42a2-9054-70b4ff040c0b",
   "metadata": {},
   "outputs": [
    {
     "data": {
      "text/plain": [
       "26"
      ]
     },
     "execution_count": 64,
     "metadata": {},
     "output_type": "execute_result"
    }
   ],
   "source": [
    "(df['Sector'] == 'Sector 124 Mohali').sum()"
   ]
  },
  {
   "cell_type": "code",
   "execution_count": 65,
   "id": "0d02d3d9-b9a7-4f3d-9d27-84abe630a173",
   "metadata": {},
   "outputs": [
    {
     "data": {
      "text/plain": [
       "629"
      ]
     },
     "execution_count": 65,
     "metadata": {},
     "output_type": "execute_result"
    }
   ],
   "source": [
    "(df['Sector'] == 'Kharar').sum()"
   ]
  },
  {
   "cell_type": "code",
   "execution_count": 66,
   "id": "eb00f81b-98fe-4ba2-8409-9a1b627fad50",
   "metadata": {},
   "outputs": [],
   "source": [
    "df.replace(\"Sector 124 Mohali\",\"Kharar\",inplace=True)"
   ]
  },
  {
   "cell_type": "code",
   "execution_count": 67,
   "id": "45c0966b-5799-4546-b999-9a171d26116a",
   "metadata": {},
   "outputs": [
    {
     "data": {
      "text/plain": [
       "655"
      ]
     },
     "execution_count": 67,
     "metadata": {},
     "output_type": "execute_result"
    }
   ],
   "source": [
    "(df['Sector'] == 'Kharar').sum()"
   ]
  },
  {
   "cell_type": "markdown",
   "id": "169619d2-f612-4464-95d8-aa1e9bccf139",
   "metadata": {},
   "source": [
    "### Panchkula"
   ]
  },
  {
   "cell_type": "code",
   "execution_count": 69,
   "id": "87329a24-09ca-45df-9ee7-fc35c5b08915",
   "metadata": {},
   "outputs": [],
   "source": [
    "# Pinjore -> Amravati Enclave"
   ]
  },
  {
   "cell_type": "code",
   "execution_count": 68,
   "id": "f32e823c-c7c3-468e-b94a-e5d0e170dbd0",
   "metadata": {},
   "outputs": [
    {
     "data": {
      "text/plain": [
       "232"
      ]
     },
     "execution_count": 68,
     "metadata": {},
     "output_type": "execute_result"
    }
   ],
   "source": [
    "(df['Sector'] == 'Pinjore').sum()"
   ]
  },
  {
   "cell_type": "code",
   "execution_count": 70,
   "id": "51c17f83-420c-44e2-a6ed-d735dde6f0bd",
   "metadata": {},
   "outputs": [],
   "source": [
    "df.replace(\"Pinjore\",\"Amravati Enclave\",inplace=True)"
   ]
  },
  {
   "cell_type": "code",
   "execution_count": 71,
   "id": "9fd6055c-5c0e-42f8-813e-0d8a3eca14a1",
   "metadata": {},
   "outputs": [
    {
     "data": {
      "text/plain": [
       "5"
      ]
     },
     "execution_count": 71,
     "metadata": {},
     "output_type": "execute_result"
    }
   ],
   "source": [
    "(df['Sector'] == 'Kalka').sum()"
   ]
  },
  {
   "cell_type": "code",
   "execution_count": 73,
   "id": "79305209-29ec-4115-af7c-7f1944822ee7",
   "metadata": {},
   "outputs": [],
   "source": [
    "df.to_csv(\"data/final_df_v2.csv\",index = False)"
   ]
  },
  {
   "cell_type": "code",
   "execution_count": null,
   "id": "0f154db3-e893-4d97-bcca-9297d17be663",
   "metadata": {},
   "outputs": [],
   "source": []
  }
 ],
 "metadata": {
  "kernelspec": {
   "display_name": "Python 3 (ipykernel)",
   "language": "python",
   "name": "python3"
  },
  "language_info": {
   "codemirror_mode": {
    "name": "ipython",
    "version": 3
   },
   "file_extension": ".py",
   "mimetype": "text/x-python",
   "name": "python",
   "nbconvert_exporter": "python",
   "pygments_lexer": "ipython3",
   "version": "3.10.13"
  }
 },
 "nbformat": 4,
 "nbformat_minor": 5
}
